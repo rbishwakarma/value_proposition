{
 "cells": [
  {
   "cell_type": "code",
   "execution_count": 1,
   "metadata": {},
   "outputs": [],
   "source": [
    "# basic packages\n",
    "import pandas as pd\n",
    "pd.set_option('display.max_rows', 500)\n",
    "pd.set_option('display.max_columns', 500)\n",
    "pd.set_option('display.width', 1000)\n",
    "from pandas.core.common import SettingWithCopyWarning\n",
    "pd.options.mode.chained_assignment = None\n",
    "\n",
    "\n",
    "import numpy as np\n",
    "import os"
   ]
  },
  {
   "cell_type": "code",
   "execution_count": 2,
   "metadata": {},
   "outputs": [],
   "source": [
    "# modeling packages\n",
    "import statsmodels.api as sm\n",
    "import statsmodels.formula as smf\n",
    "from statsmodels.iolib.summary2 import summary_col # creating summary tables\n",
    "import math"
   ]
  },
  {
   "cell_type": "code",
   "execution_count": 3,
   "metadata": {},
   "outputs": [],
   "source": [
    "# main data\n",
    "os.chdir('C:\\\\Users\\\\rbishwakarma\\\\Desktop\\\\value_proposition_in_python\\\\value_proposition')\n",
    "df = pd.read_stata('final.dta')"
   ]
  },
  {
   "cell_type": "code",
   "execution_count": 4,
   "metadata": {},
   "outputs": [
    {
     "data": {
      "text/plain": [
       "1"
      ]
     },
     "execution_count": 4,
     "metadata": {},
     "output_type": "execute_result"
    }
   ],
   "source": [
    "# counting the missing values for fourrate and stem\n",
    "df.stem.isnull().sum()\n",
    "df.fourrate.isnull().sum()"
   ]
  },
  {
   "cell_type": "code",
   "execution_count": 5,
   "metadata": {},
   "outputs": [],
   "source": [
    "# removing missing universities for the analysis\n",
    "df = df.dropna(axis = 0, how = 'any', subset = ['fourrate'])\n",
    "\n",
    "# dropping values from the missing\n",
    "df2 = df.dropna(axis = 0, how='any', subset=['stem'])\n",
    "df2.reset_index(drop=True, inplace=True)"
   ]
  },
  {
   "cell_type": "code",
   "execution_count": 6,
   "metadata": {},
   "outputs": [],
   "source": [
    "# Models\n",
    "model1 = df[['instruction_FTE', 'academic_support_FTE', 'student_service_FTE', 'R1']]\n",
    "\n",
    "model2 = df2[['instruction_FTE', 'academic_support_FTE', 'student_service_FTE',\n",
    "          'research_FTE', 'SATtoACT_math_25', 'pell_grants', 'stem', 'R1']]\n",
    "\n",
    "model3 = df2[['academic_support_FTE', 'student_service_FTE', 'research_FTE', \n",
    "          'SATtoACT_math_25', 'pell_grants', 'stem', 'salary_instruction', 'R1']]\n",
    "\n",
    "model4 = df2[['academic_support_FTE', 'student_service_FTE', 'research_FTE', 'SATtoACT_math_25', \n",
    "          'pell_grants', 'stem', 'salary_instruction', 'female', 'white_percent', 'hispanic_percent', \n",
    "          'asian_percent', 'R1']]\n",
    "\n",
    "model5 = df2[['instruction_FTE', 'academic_support_FTE', 'student_service_FTE', 'research_FTE',\n",
    "          'SATtoACT_math_25', 'pell_grants', 'stem', 'female', 'white_percent', 'hispanic_percent',\n",
    "          'asian_percent', 'R1']]\n",
    "\n",
    "models = [model2, model3, model4, model5]\n",
    "\n",
    "models_name = ['model2', 'model3', 'model4', 'model5']\n"
   ]
  },
  {
   "cell_type": "markdown",
   "metadata": {},
   "source": [
    "#Compute weight for the WLS"
   ]
  },
  {
   "cell_type": "code",
   "execution_count": 7,
   "metadata": {},
   "outputs": [],
   "source": [
    "# Model 1- weight\n",
    "y1 = df['fourrate']\n",
    "ols = sm.OLS(y1, sm.add_constant(model1)).fit()\n",
    "reisiduals = abs(ols.resid) # absolute value of the residuals\n",
    "\n",
    "# step 2\n",
    "ols2 = sm.OLS(reisiduals, sm.add_constant(df['students_FTE_total'])).fit()\n",
    "fitted = ols2.predict()\n",
    "\n",
    "# weight\n",
    "weights = (1/fitted)**2\n",
    "df.loc[:,'weight_4_model1'] = weights\n"
   ]
  },
  {
   "cell_type": "code",
   "execution_count": 8,
   "metadata": {},
   "outputs": [],
   "source": [
    "# Models 3 - 9 weights\n",
    "y = df2['fourrate']\n",
    "weight = df2['students_FTE_total']\n",
    "\n",
    "# creating weights\n",
    "for i in range(len(models)):\n",
    "    # step 1\n",
    "    ols = sm.OLS(y, sm.add_constant(models[i])).fit()\n",
    "    reisdual = abs(ols.resid) \n",
    "\n",
    "    # step 2\n",
    "    ols2 = sm.OLS(reisdual, sm.add_constant(weight)).fit()\n",
    "    fitted = ols2.predict()\n",
    "\n",
    "    # weight\n",
    "    weights = (1/fitted)**2\n",
    "    df2.loc[:, 'weight_4_'+str(models_name[i])] = weights"
   ]
  },
  {
   "cell_type": "markdown",
   "metadata": {},
   "source": [
    "# WLS Models"
   ]
  },
  {
   "cell_type": "code",
   "execution_count": 9,
   "metadata": {},
   "outputs": [],
   "source": [
    "# Model 1\n",
    "y1 = df['fourrate']\n",
    "\n",
    "m1 = sm.WLS(y1, sm.add_constant(model1), weights = df['weight_4_model1']).fit() \n",
    "df.loc[:, 'predict1'] = m1.predict()"
   ]
  },
  {
   "cell_type": "code",
   "execution_count": 10,
   "metadata": {},
   "outputs": [],
   "source": [
    "# models 3, 5, 7, 9\n",
    "y = df2['fourrate']\n",
    "\n",
    "m2 = sm.WLS(y, sm.add_constant(model2), weights = df2['weight_4_model2']).fit() \n",
    "df2.loc[:,'predict2'] = m2.predict()\n",
    "\n",
    "m3 = sm.WLS(y, sm.add_constant(model3), weights = df2['weight_4_model3']).fit() \n",
    "df2.loc[:,'predict3'] = m3.predict()\n",
    "\n",
    "m4 = sm.WLS(y, sm.add_constant(model4), weights = df2['weight_4_model4']).fit() \n",
    "df2.loc[:,'predict4'] = m4.predict()\n",
    "\n",
    "m5 = sm.WLS(y, sm.add_constant(model5), weights = df2['weight_4_model5']).fit() \n",
    "df2.loc[:,'predict5'] = m5.predict()\n"
   ]
  },
  {
   "cell_type": "code",
   "execution_count": 11,
   "metadata": {},
   "outputs": [
    {
     "name": "stdout",
     "output_type": "stream",
     "text": [
      "Predicted UNM m1  0.4598\n"
     ]
    }
   ],
   "source": [
    "# prediction for model 1\n",
    "x = df[df.name == 'University of New Mexico-Main Campus'].predict1\n",
    "p1 = math.exp(x)/(1+math.exp(x))\n",
    "print('Predicted UNM m1''  ' '%0.4f' % p1)"
   ]
  },
  {
   "cell_type": "code",
   "execution_count": 12,
   "metadata": {},
   "outputs": [
    {
     "name": "stdout",
     "output_type": "stream",
     "text": [
      "Predicted UNM m2  0.2902\n",
      "Predicted UNM m3  0.2737\n",
      "Predicted UNM m4  0.2628\n",
      "Predicted UNM m5  0.2802\n"
     ]
    }
   ],
   "source": [
    "# predicted values WLS\n",
    "import math\n",
    "columns = ['predict2', 'predict3', 'predict4', 'predict5']\n",
    "names = ['m2', 'm3', 'm4', 'm5']\n",
    "\n",
    "table_unm = df2.loc[df2['name'] == 'University of New Mexico-Main Campus']\n",
    "\n",
    "for i in range(len(columns)): \n",
    "    x = table_unm[columns[i]]\n",
    "    p = math.exp(x)/(1+math.exp(x))\n",
    "    print('Predicted UNM '+str(names[i]) + '  ' '%0.4f' % p)"
   ]
  },
  {
   "cell_type": "markdown",
   "metadata": {},
   "source": [
    "# OLS Models\n"
   ]
  },
  {
   "cell_type": "code",
   "execution_count": 13,
   "metadata": {},
   "outputs": [],
   "source": [
    "# models 4, 6, 8, 10 - VCE OLS model\n",
    "w = df2['pwht']\n",
    "s = df2['state']\n",
    "# regression results\n",
    "m6 = sm.WLS(y1, sm.add_constant(model1), weights = df['pwht']).fit(cov_type='cluster', cov_kwds = {'groups': df['state']}) \n",
    "df.loc[:,'predict6'] = m6.predict()"
   ]
  },
  {
   "cell_type": "code",
   "execution_count": 14,
   "metadata": {},
   "outputs": [],
   "source": [
    "# models 4, 6, 8, 10 - VCE OLS model\n",
    "m7 = sm.WLS(y, sm.add_constant(model2), weights = w).fit(cov_type='cluster', cov_kwds = {'groups': s}) \n",
    "df2.loc[:,'predict7'] = m7.predict()\n",
    "\n",
    "m8 = sm.WLS(y, sm.add_constant(model3), weights = w).fit(cov_type='cluster', cov_kwds = {'groups': s}) \n",
    "df2.loc[:,'predict8'] = m8.predict()\n",
    "\n",
    "m9 = sm.WLS(y, sm.add_constant(model4), weights = w).fit(cov_type='cluster', cov_kwds = {'groups': s}) \n",
    "df2.loc[:,'predict9'] = m9.predict()\n",
    "\n",
    "m10 = sm.WLS(y, sm.add_constant(model5), weights = w).fit(cov_type='cluster', cov_kwds = {'groups': s}) \n",
    "df2.loc[:,'predict10'] = m10.predict()\n",
    "\n"
   ]
  },
  {
   "cell_type": "code",
   "execution_count": 15,
   "metadata": {},
   "outputs": [
    {
     "name": "stdout",
     "output_type": "stream",
     "text": [
      "Predicted UNM m6  0.4972\n"
     ]
    }
   ],
   "source": [
    "# prediction for model 6\n",
    "x = df[df.name == 'University of New Mexico-Main Campus'].predict6\n",
    "p6 = math.exp(x)/(1+math.exp(x))\n",
    "print('Predicted UNM m6''  ' '%0.4f' % p6)"
   ]
  },
  {
   "cell_type": "code",
   "execution_count": 16,
   "metadata": {},
   "outputs": [
    {
     "name": "stdout",
     "output_type": "stream",
     "text": [
      "Predicted UNM m7  0.3050\n",
      "Predicted UNM m8  0.2838\n",
      "Predicted UNM m9  0.2669\n",
      "Predicted UNM m10  0.2969\n"
     ]
    }
   ],
   "source": [
    "#predicted values - OLS\n",
    "columns = ['predict7', 'predict8', 'predict9', 'predict10']\n",
    "names = ['m7', 'm8', 'm9', 'm10']\n",
    "\n",
    "table_unm = df2.loc[df2['name'] == 'University of New Mexico-Main Campus']\n",
    "\n",
    "for i in range(len(columns)): \n",
    "    x = table_unm[columns[i]]\n",
    "    p = math.exp(x)/(1+math.exp(x))\n",
    "    print('Predicted UNM '+str(names[i]) + '  ' '%0.4f' % p)"
   ]
  },
  {
   "cell_type": "markdown",
   "metadata": {},
   "source": [
    "# Table 9"
   ]
  },
  {
   "cell_type": "code",
   "execution_count": 17,
   "metadata": {},
   "outputs": [],
   "source": [
    "# view table\n",
    "table = summary_col([m1, m6, m2, m7, m3, m8, m4, m9, m5, m10], stars=True, float_format='%0.3f',\n",
    "                      regressor_order = ['instruction_FTE', 'academic_support_FTE', 'student_service_FTE',\n",
    "                      'R1', 'research_FTE', 'SATtoACT_math_25', 'pell_grants', 'stem', 'salary_instruction', 'female', \n",
    "                      'white_percent', 'hispanic_percent', \n",
    "                      'asian_percent', 'const'],\n",
    "                      model_names = ['(1)\\n WLS', '(2)\\n OLS-VCE','(3)\\n WLS', '(4)\\n OLS-VCE', '(5) \\n WLS',\n",
    "                                    '(6)\\n OLS', '(7)\\n WLS', '(8)\\n OLS-VCE', '(9)\\n WLS', '(10) \\n OLS-VCE'],\n",
    "                      info_dict={'R2':lambda x: \"{:.2f}\".format(x.rsquared),\n",
    "                                'N':lambda x: \"{0:d}\".format(int(x.nobs))})"
   ]
  },
  {
   "cell_type": "code",
   "execution_count": 18,
   "metadata": {},
   "outputs": [
    {
     "name": "stdout",
     "output_type": "stream",
     "text": [
      "\n",
      "========================================================================================================================\n",
      "                        (1)       (2)       (3)       (4)       (5)       (6)       (7)       (8)       (9)      (10)   \n",
      "                         WLS     OLS-VCE     WLS     OLS-VCE     WLS       OLS       WLS     OLS-VCE     WLS     OLS-VCE\n",
      "------------------------------------------------------------------------------------------------------------------------\n",
      "instruction_FTE      0.020***  0.008**   0.006     0.002                                             0.006     0.002    \n",
      "                     (0.005)   (0.004)   (0.004)   (0.004)                                           (0.004)   (0.004)  \n",
      "academic_support_FTE 0.029***  0.027***  0.016**   0.016***  0.011*    0.014***  0.012**   0.016***  0.017**   0.018*** \n",
      "                     (0.010)   (0.004)   (0.007)   (0.004)   (0.007)   (0.003)   (0.006)   (0.003)   (0.006)   (0.003)  \n",
      "student_service_FTE  0.085**   0.116***  0.011     0.012     -0.008    -0.018    -0.006    -0.019    0.012     0.012    \n",
      "                     (0.033)   (0.040)   (0.023)   (0.016)   (0.021)   (0.017)   (0.020)   (0.012)   (0.022)   (0.015)  \n",
      "R1                   0.731***  0.818***  0.227**   0.210*    0.109     0.069     0.164*    0.088     0.251***  0.198**  \n",
      "                     (0.110)   (0.165)   (0.088)   (0.124)   (0.088)   (0.102)   (0.086)   (0.079)   (0.087)   (0.090)  \n",
      "research_FTE                             -0.005    0.000     -0.003    -0.002    -0.008**  -0.007**  -0.010**  -0.006   \n",
      "                                         (0.005)   (0.003)   (0.004)   (0.003)   (0.004)   (0.003)   (0.005)   (0.004)  \n",
      "SATtoACT_math_25                         0.195***  0.195***  0.166***  0.159***  0.163***  0.149***  0.179***  0.172*** \n",
      "                                         (0.018)   (0.024)   (0.019)   (0.025)   (0.019)   (0.025)   (0.019)   (0.027)  \n",
      "pell_grants                              -0.018*** -0.020*** -0.020*** -0.022*** -0.018*** -0.021**  -0.021*** -0.026** \n",
      "                                         (0.004)   (0.007)   (0.004)   (0.006)   (0.006)   (0.010)   (0.006)   (0.010)  \n",
      "stem                                     -0.018*** -0.020*** -0.019*** -0.020*** -0.004    -0.004    -0.004    -0.004   \n",
      "                                         (0.004)   (0.004)   (0.003)   (0.004)   (0.005)   (0.005)   (0.005)   (0.006)  \n",
      "salary_instruction                                           0.126***  0.143***  0.132***  0.158***                     \n",
      "                                                             (0.030)   (0.037)   (0.031)   (0.041)                      \n",
      "female                                                                           0.038***  0.040***  0.036***  0.038*** \n",
      "                                                                                 (0.008)   (0.008)   (0.008)   (0.009)  \n",
      "white_percent                                                                    0.004     0.003     0.004     0.002    \n",
      "                                                                                 (0.004)   (0.007)   (0.004)   (0.007)  \n",
      "hispanic_percent                                                                 -0.001    -0.002    0.001     0.001    \n",
      "                                                                                 (0.004)   (0.006)   (0.004)   (0.006)  \n",
      "asian_percent                                                                    0.003     0.002     0.012*    0.012    \n",
      "                                                                                 (0.007)   (0.012)   (0.007)   (0.012)  \n",
      "const                -1.312*** -1.131*** -4.104*** -3.862*** -4.386*** -4.208*** -7.002*** -6.761*** -6.051*** -5.683***\n",
      "                     (0.098)   (0.135)   (0.426)   (0.591)   (0.406)   (0.546)   (0.873)   (1.303)   (0.875)   (1.328)  \n",
      "R-squared            0.498     0.520     0.785     0.818     0.802     0.837     0.822     0.856     0.806     0.836    \n",
      "                     0.507     0.529     0.794     0.825     0.810     0.843     0.833     0.865     0.817     0.846    \n",
      "R2                   0.51      0.53      0.79      0.83      0.81      0.84      0.83      0.86      0.82      0.85     \n",
      "N                    216       216       196       196       196       196       196       196       196       196      \n",
      "========================================================================================================================\n",
      "Standard errors in parentheses.\n",
      "* p<.1, ** p<.05, ***p<.01\n"
     ]
    }
   ],
   "source": [
    "print(table)"
   ]
  },
  {
   "cell_type": "markdown",
   "metadata": {},
   "source": [
    "# Export table"
   ]
  },
  {
   "cell_type": "code",
   "execution_count": 19,
   "metadata": {},
   "outputs": [],
   "source": [
    "# directory to save tables\n",
    "import os\n",
    "os.chdir('C:\\\\Users\\\\rbishwakarma\\\\Desktop\\\\value_proposition_in_python\\\\value_proposition\\\\tables')\n",
    "\n",
    "results_text = table.as_text()\n",
    "\n",
    "text_file = open(\"table9.txt\", \"w\")\n",
    "text_file.write(results_text)\n",
    "text_file.close()"
   ]
  },
  {
   "cell_type": "code",
   "execution_count": null,
   "metadata": {},
   "outputs": [],
   "source": []
  }
 ],
 "metadata": {
  "kernelspec": {
   "display_name": "Python 3",
   "language": "python",
   "name": "python3"
  },
  "language_info": {
   "codemirror_mode": {
    "name": "ipython",
    "version": 3
   },
   "file_extension": ".py",
   "mimetype": "text/x-python",
   "name": "python",
   "nbconvert_exporter": "python",
   "pygments_lexer": "ipython3",
   "version": "3.7.6"
  }
 },
 "nbformat": 4,
 "nbformat_minor": 4
}
