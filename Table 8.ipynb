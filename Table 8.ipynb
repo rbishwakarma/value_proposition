{
 "cells": [
  {
   "cell_type": "code",
   "execution_count": 1,
   "metadata": {},
   "outputs": [],
   "source": [
    "# basic packages\n",
    "import pandas as pd\n",
    "pd.set_option('display.max_rows', 500)\n",
    "pd.set_option('display.max_columns', 500)\n",
    "pd.set_option('display.width', 1000)\n",
    "from pandas.core.common import SettingWithCopyWarning\n",
    "pd.options.mode.chained_assignment = None\n",
    "\n",
    "\n",
    "import numpy as np\n",
    "import os"
   ]
  },
  {
   "cell_type": "code",
   "execution_count": 2,
   "metadata": {},
   "outputs": [],
   "source": [
    "# modeling packages\n",
    "import statsmodels.api as sm\n",
    "import statsmodels.formula as smf\n",
    "from statsmodels.iolib.summary2 import summary_col # creating summary tables\n",
    "import math"
   ]
  },
  {
   "cell_type": "code",
   "execution_count": 3,
   "metadata": {},
   "outputs": [],
   "source": [
    "# main data\n",
    "os.chdir('C:\\\\Users\\\\rbishwakarma\\\\Desktop\\\\value_proposition_in_python\\\\value_proposition')\n",
    "df = pd.read_stata('final.dta')"
   ]
  },
  {
   "cell_type": "code",
   "execution_count": 4,
   "metadata": {},
   "outputs": [
    {
     "data": {
      "text/plain": [
       "1"
      ]
     },
     "execution_count": 4,
     "metadata": {},
     "output_type": "execute_result"
    }
   ],
   "source": [
    "# counting the missing values for fourrate and stem\n",
    "df.stem.isnull().sum()\n",
    "df.fourrate.isnull().sum()"
   ]
  },
  {
   "cell_type": "code",
   "execution_count": 5,
   "metadata": {},
   "outputs": [],
   "source": [
    "# removing missing universities for the analysis\n",
    "df = df.dropna(axis = 0, how = 'any', subset = ['retentionrate'])\n",
    "\n",
    "# dropping values from the missing\n",
    "df2 = df.dropna(axis = 0, how='any', subset=['stem'])\n",
    "df2.reset_index(drop=True, inplace=True)"
   ]
  },
  {
   "cell_type": "code",
   "execution_count": 6,
   "metadata": {},
   "outputs": [],
   "source": [
    "# Models\n",
    "model1 = df[['instruction_FTE', 'academic_support_FTE', 'student_service_FTE', 'R1']]\n",
    "\n",
    "model2 = df2[['instruction_FTE', 'academic_support_FTE', 'student_service_FTE',\n",
    "          'research_FTE', 'SATtoACT_math_25', 'pell_grants', 'stem', 'R1']]\n",
    "\n",
    "model3 = df2[['academic_support_FTE', 'student_service_FTE', 'research_FTE', \n",
    "          'SATtoACT_math_25', 'pell_grants', 'stem', 'salary_instruction', 'R1']]\n",
    "\n",
    "model4 = df2[['academic_support_FTE', 'student_service_FTE', 'research_FTE', 'SATtoACT_math_25', \n",
    "          'pell_grants', 'stem', 'salary_instruction', 'female', 'white_percent', 'hispanic_percent', \n",
    "          'asian_percent', 'R1']]\n",
    "\n",
    "model5 = df2[['instruction_FTE', 'academic_support_FTE', 'student_service_FTE', 'research_FTE',\n",
    "          'SATtoACT_math_25', 'pell_grants', 'stem', 'female', 'white_percent', 'hispanic_percent',\n",
    "          'asian_percent', 'R1']]\n",
    "\n",
    "models = [model2, model3, model4, model5]\n",
    "\n",
    "models_name = ['model2', 'model3', 'model4', 'model5']\n"
   ]
  },
  {
   "cell_type": "markdown",
   "metadata": {},
   "source": [
    "#Compute weight for the WLS"
   ]
  },
  {
   "cell_type": "code",
   "execution_count": 7,
   "metadata": {},
   "outputs": [],
   "source": [
    "# Model 1- weight\n",
    "y1 = df['retentionrate']\n",
    "ols = sm.OLS(y1, sm.add_constant(model1)).fit()\n",
    "reisiduals = abs(ols.resid) # absolute value of the residuals\n",
    "\n",
    "# step 2\n",
    "ols2 = sm.OLS(reisiduals, sm.add_constant(df['students_FTE_total'])).fit()\n",
    "fitted = ols2.predict()\n",
    "\n",
    "# weight\n",
    "weights = (1/fitted)**2\n",
    "df.loc[:,'weight_4_model1'] = weights\n"
   ]
  },
  {
   "cell_type": "code",
   "execution_count": 8,
   "metadata": {},
   "outputs": [],
   "source": [
    "# Models 3 - 9 weights\n",
    "y = df2['retentionrate']\n",
    "weight = df2['students_FTE_total']\n",
    "\n",
    "# creating weights\n",
    "for i in range(len(models)):\n",
    "    # step 1\n",
    "    ols = sm.OLS(y, sm.add_constant(models[i])).fit()\n",
    "    reisdual = abs(ols.resid) \n",
    "\n",
    "    # step 2\n",
    "    ols2 = sm.OLS(reisdual, sm.add_constant(weight)).fit()\n",
    "    fitted = ols2.predict()\n",
    "\n",
    "    # weight\n",
    "    weights = (1/fitted)**2\n",
    "    df2.loc[:, 'weight_4_'+str(models_name[i])] = weights"
   ]
  },
  {
   "cell_type": "markdown",
   "metadata": {},
   "source": [
    "# WLS Models"
   ]
  },
  {
   "cell_type": "code",
   "execution_count": 9,
   "metadata": {},
   "outputs": [],
   "source": [
    "# Model 1\n",
    "y1 = df['retentionrate']\n",
    "\n",
    "m1 = sm.WLS(y1, sm.add_constant(model1), weights = df['weight_4_model1']).fit() \n",
    "df.loc[:, 'predict1'] = m1.predict()"
   ]
  },
  {
   "cell_type": "code",
   "execution_count": 10,
   "metadata": {},
   "outputs": [],
   "source": [
    "# models 3, 5, 7, 9\n",
    "y = df2['retentionrate']\n",
    "\n",
    "m2 = sm.WLS(y, sm.add_constant(model2), weights = df2['weight_4_model2']).fit() \n",
    "df2.loc[:,'predict2'] = m2.predict()\n",
    "\n",
    "m3 = sm.WLS(y, sm.add_constant(model3), weights = df2['weight_4_model3']).fit() \n",
    "df2.loc[:,'predict3'] = m3.predict()\n",
    "\n",
    "m4 = sm.WLS(y, sm.add_constant(model4), weights = df2['weight_4_model4']).fit() \n",
    "df2.loc[:,'predict4'] = m4.predict()\n",
    "\n",
    "m5 = sm.WLS(y, sm.add_constant(model5), weights = df2['weight_4_model5']).fit() \n",
    "df2.loc[:,'predict5'] = m5.predict()\n"
   ]
  },
  {
   "cell_type": "code",
   "execution_count": 11,
   "metadata": {},
   "outputs": [
    {
     "name": "stdout",
     "output_type": "stream",
     "text": [
      "Predicted UNM m1  0.8889\n"
     ]
    }
   ],
   "source": [
    "# prediction for model 1\n",
    "x = df[df.name == 'University of New Mexico-Main Campus'].predict1\n",
    "p1 = math.exp(x)/(1+math.exp(x))\n",
    "print('Predicted UNM m1''  ' '%0.4f' % p1)"
   ]
  },
  {
   "cell_type": "code",
   "execution_count": 12,
   "metadata": {},
   "outputs": [
    {
     "name": "stdout",
     "output_type": "stream",
     "text": [
      "Predicted UNM m2  0.8272\n",
      "Predicted UNM m3  0.8187\n",
      "Predicted UNM m4  0.8218\n",
      "Predicted UNM m5  0.8307\n"
     ]
    }
   ],
   "source": [
    "# predicted values WLS\n",
    "import math\n",
    "columns = ['predict2', 'predict3', 'predict4', 'predict5']\n",
    "names = ['m2', 'm3', 'm4', 'm5']\n",
    "\n",
    "table_unm = df2.loc[df2['name'] == 'University of New Mexico-Main Campus']\n",
    "\n",
    "for i in range(len(columns)): \n",
    "    x = table_unm[columns[i]]\n",
    "    p = math.exp(x)/(1+math.exp(x))\n",
    "    print('Predicted UNM '+str(names[i]) + '  ' '%0.4f' % p)"
   ]
  },
  {
   "cell_type": "markdown",
   "metadata": {},
   "source": [
    "# OLS Models\n"
   ]
  },
  {
   "cell_type": "code",
   "execution_count": 13,
   "metadata": {},
   "outputs": [],
   "source": [
    "# models 4, 6, 8, 10 - VCE OLS model\n",
    "w = df2['pwht']\n",
    "s = df2['state']\n",
    "# regression results\n",
    "m6 = sm.WLS(y1, sm.add_constant(model1), weights = df['pwht']).fit(cov_type='cluster', cov_kwds = {'groups': df['state']}) \n",
    "df.loc[:,'predict6'] = m6.predict()"
   ]
  },
  {
   "cell_type": "code",
   "execution_count": 14,
   "metadata": {},
   "outputs": [],
   "source": [
    "# models 4, 6, 8, 10 - VCE OLS model\n",
    "m7 = sm.WLS(y, sm.add_constant(model2), weights = w).fit(cov_type='cluster', cov_kwds = {'groups': s}) \n",
    "df2.loc[:,'predict7'] = m7.predict()\n",
    "\n",
    "m8 = sm.WLS(y, sm.add_constant(model3), weights = w).fit(cov_type='cluster', cov_kwds = {'groups': s}) \n",
    "df2.loc[:,'predict8'] = m8.predict()\n",
    "\n",
    "m9 = sm.WLS(y, sm.add_constant(model4), weights = w).fit(cov_type='cluster', cov_kwds = {'groups': s}) \n",
    "df2.loc[:,'predict9'] = m9.predict()\n",
    "\n",
    "m10 = sm.WLS(y, sm.add_constant(model5), weights = w).fit(cov_type='cluster', cov_kwds = {'groups': s}) \n",
    "df2.loc[:,'predict10'] = m10.predict()\n",
    "\n"
   ]
  },
  {
   "cell_type": "code",
   "execution_count": 15,
   "metadata": {},
   "outputs": [
    {
     "name": "stdout",
     "output_type": "stream",
     "text": [
      "Predicted UNM m6  0.8924\n"
     ]
    }
   ],
   "source": [
    "# prediction for model 6\n",
    "x = df[df.name == 'University of New Mexico-Main Campus'].predict6\n",
    "p6 = math.exp(x)/(1+math.exp(x))\n",
    "print('Predicted UNM m6''  ' '%0.4f' % p6)"
   ]
  },
  {
   "cell_type": "code",
   "execution_count": 16,
   "metadata": {},
   "outputs": [
    {
     "name": "stdout",
     "output_type": "stream",
     "text": [
      "Predicted UNM m7  0.8309\n",
      "Predicted UNM m8  0.8218\n",
      "Predicted UNM m9  0.8281\n",
      "Predicted UNM m10  0.8421\n"
     ]
    }
   ],
   "source": [
    "#predicted values - OLS\n",
    "columns = ['predict7', 'predict8', 'predict9', 'predict10']\n",
    "names = ['m7', 'm8', 'm9', 'm10']\n",
    "\n",
    "table_unm = df2.loc[df2['name'] == 'University of New Mexico-Main Campus']\n",
    "\n",
    "for i in range(len(columns)): \n",
    "    x = table_unm[columns[i]]\n",
    "    p = math.exp(x)/(1+math.exp(x))\n",
    "    print('Predicted UNM '+str(names[i]) + '  ' '%0.4f' % p)"
   ]
  },
  {
   "cell_type": "markdown",
   "metadata": {},
   "source": [
    "# Table 10"
   ]
  },
  {
   "cell_type": "code",
   "execution_count": 17,
   "metadata": {},
   "outputs": [],
   "source": [
    "# view table\n",
    "table = summary_col([m1, m6, m2, m7, m3, m8, m4, m9, m5, m10], stars=True, float_format='%0.3f',\n",
    "                      regressor_order = ['instruction_FTE', 'academic_support_FTE', 'student_service_FTE',\n",
    "                      'R1', 'research_FTE', 'SATtoACT_math_25', 'pell_grants', 'stem', 'salary_instruction', 'female', \n",
    "                      'white_percent', 'hispanic_percent', \n",
    "                      'asian_percent', 'const'],\n",
    "                      model_names = ['(1)\\n WLS', '(2)\\n OLS-VCE','(3)\\n WLS', '(4)\\n OLS-VCE', '(5) \\n WLS',\n",
    "                                    '(6)\\n OLS', '(7)\\n WLS', '(8)\\n OLS-VCE', '(9)\\n WLS', '(10) \\n OLS-VCE'],\n",
    "                      info_dict={'R2':lambda x: \"{:.2f}\".format(x.rsquared),\n",
    "                                'N':lambda x: \"{0:d}\".format(int(x.nobs))})"
   ]
  },
  {
   "cell_type": "code",
   "execution_count": 18,
   "metadata": {},
   "outputs": [
    {
     "name": "stdout",
     "output_type": "stream",
     "text": [
      "\n",
      "===================================================================================================================\n",
      "                       (1)      (2)       (3)      (4)       (5)       (6)       (7)      (8)       (9)     (10)   \n",
      "                        WLS    OLS-VCE     WLS    OLS-VCE     WLS       OLS       WLS    OLS-VCE     WLS    OLS-VCE\n",
      "-------------------------------------------------------------------------------------------------------------------\n",
      "instruction_FTE      0.013*** 0.008**  0.001     0.003                                           0.001     0.003   \n",
      "                     (0.003)  (0.003)  (0.003)   (0.004)                                         (0.003)   (0.004) \n",
      "academic_support_FTE 0.019*** 0.012*** 0.009**   0.011*** 0.007     0.009***  0.008*    0.009*** 0.010**   0.011***\n",
      "                     (0.007)  (0.003)  (0.005)   (0.003)  (0.004)   (0.003)   (0.004)   (0.002)  (0.004)   (0.003) \n",
      "student_service_FTE  0.085*** 0.106*** 0.032**   0.039**  0.015     0.025     0.013     0.018    0.032**   0.036** \n",
      "                     (0.022)  (0.017)  (0.016)   (0.016)  (0.014)   (0.016)   (0.014)   (0.016)  (0.015)   (0.016) \n",
      "R1                   0.664*** 0.623*** 0.341***  0.385*** 0.261***  0.301***  0.289***  0.324*** 0.347***  0.396***\n",
      "                     (0.079)  (0.105)  (0.063)   (0.069)  (0.064)   (0.060)   (0.064)   (0.063)  (0.065)   (0.063) \n",
      "research_FTE                           -0.002    -0.007*  -0.002    -0.007**  -0.005*   -0.008** -0.004    -0.008* \n",
      "                                       (0.003)   (0.004)  (0.002)   (0.003)   (0.003)   (0.003)  (0.003)   (0.004) \n",
      "SATtoACT_math_25                       0.141***  0.124*** 0.119***  0.105***  0.114***  0.098*** 0.129***  0.111***\n",
      "                                       (0.013)   (0.020)  (0.014)   (0.020)   (0.014)   (0.017)  (0.015)   (0.020) \n",
      "pell_grants                            -0.004    -0.006   -0.006**  -0.007    -0.007    -0.009   -0.009*   -0.012* \n",
      "                                       (0.003)   (0.006)  (0.003)   (0.005)   (0.004)   (0.006)  (0.005)   (0.006) \n",
      "stem                                   0.001     0.002    -0.000    0.001     0.007**   0.008**  0.007*    0.008** \n",
      "                                       (0.002)   (0.002)  (0.002)   (0.002)   (0.003)   (0.004)  (0.003)   (0.004) \n",
      "salary_instruction                                        0.083***  0.090***  0.090***  0.107***                   \n",
      "                                                          (0.021)   (0.026)   (0.023)   (0.026)                    \n",
      "female                                                                        0.016***  0.016**  0.015**   0.015*  \n",
      "                                                                              (0.006)   (0.008)  (0.006)   (0.008) \n",
      "white_percent                                                                 -0.001    -0.004   -0.002    -0.004  \n",
      "                                                                              (0.003)   (0.004)  (0.003)   (0.004) \n",
      "hispanic_percent                                                              -0.002    -0.003   -0.000    -0.000  \n",
      "                                                                              (0.003)   (0.003)  (0.003)   (0.004) \n",
      "asian_percent                                                                 -0.004    -0.010   0.002     -0.003  \n",
      "                                                                              (0.005)   (0.007)  (0.005)   (0.007) \n",
      "const                1.103*** 1.232*** -1.511*** -1.145** -1.648*** -1.412*** -2.445*** -2.032** -1.910*** -1.325  \n",
      "                     (0.067)  (0.088)  (0.312)   (0.481)  (0.300)   (0.461)   (0.658)   (0.893)  (0.665)   (0.830) \n",
      "R-squared            0.579    0.612    0.822     0.844    0.837     0.855     0.844     0.865    0.828     0.851   \n",
      "                     0.587    0.619    0.830     0.850    0.844     0.861     0.853     0.873    0.839     0.860   \n",
      "R2                   0.59     0.62     0.83      0.85     0.84      0.86      0.85      0.87     0.84      0.86    \n",
      "N                    216      216      196       196      196       196       196       196      196       196     \n",
      "===================================================================================================================\n",
      "Standard errors in parentheses.\n",
      "* p<.1, ** p<.05, ***p<.01\n"
     ]
    }
   ],
   "source": [
    "print(table)"
   ]
  },
  {
   "cell_type": "markdown",
   "metadata": {},
   "source": [
    "# Export table"
   ]
  },
  {
   "cell_type": "code",
   "execution_count": 19,
   "metadata": {},
   "outputs": [],
   "source": [
    "# directory to save tables\n",
    "import os\n",
    "os.chdir('C:\\\\Users\\\\rbishwakarma\\\\Desktop\\\\value_proposition_in_python\\\\value_proposition\\\\tables')\n",
    "\n",
    "results_text = table.as_text()\n",
    "\n",
    "text_file = open(\"table8.txt\", \"w\")\n",
    "text_file.write(results_text)\n",
    "text_file.close()"
   ]
  },
  {
   "cell_type": "code",
   "execution_count": null,
   "metadata": {},
   "outputs": [],
   "source": []
  }
 ],
 "metadata": {
  "kernelspec": {
   "display_name": "Python 3",
   "language": "python",
   "name": "python3"
  },
  "language_info": {
   "codemirror_mode": {
    "name": "ipython",
    "version": 3
   },
   "file_extension": ".py",
   "mimetype": "text/x-python",
   "name": "python",
   "nbconvert_exporter": "python",
   "pygments_lexer": "ipython3",
   "version": "3.7.6"
  }
 },
 "nbformat": 4,
 "nbformat_minor": 4
}
