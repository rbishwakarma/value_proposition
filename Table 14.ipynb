{
 "cells": [
  {
   "cell_type": "code",
   "execution_count": 1,
   "metadata": {},
   "outputs": [],
   "source": [
    "# basic packages\n",
    "import pandas as pd\n",
    "pd.set_option('display.max_rows', 500)\n",
    "pd.set_option('display.max_columns', 500)\n",
    "pd.set_option('display.width', 1000)\n",
    "from pandas.core.common import SettingWithCopyWarning\n",
    "pd.options.mode.chained_assignment = None\n",
    "\n",
    "\n",
    "import numpy as np\n",
    "import os"
   ]
  },
  {
   "cell_type": "code",
   "execution_count": 2,
   "metadata": {},
   "outputs": [],
   "source": [
    "# modeling packages\n",
    "import statsmodels.api as sm\n",
    "import statsmodels.formula as smf\n",
    "from statsmodels.iolib.summary2 import summary_col # creating summary tables\n",
    "import statsmodels.formula.api as sm2\n",
    "import math"
   ]
  },
  {
   "cell_type": "code",
   "execution_count": 3,
   "metadata": {},
   "outputs": [],
   "source": [
    "# main data\n",
    "os.chdir('C:\\\\Users\\\\rbishwakarma\\\\Desktop\\\\value_proposition_in_python\\\\value_proposition')\n",
    "df = pd.read_stata('final.dta')\n",
    "\n",
    "df = df[['academic_support_FTE', 'student_service_FTE', 'research_FTE', 'SATtoACT_math_25', \n",
    "             'pell_grants', 'stem', 'salary_instruction', 'female', 'white_percent', \n",
    "             'hispanic_percent', 'asian_percent', 'R1', 'sixrate', 'fourrate', 'retentionrate', \n",
    "         'early_careerlog', 'pwht', 'state']]"
   ]
  },
  {
   "cell_type": "markdown",
   "metadata": {},
   "source": [
    "# Table 14"
   ]
  },
  {
   "cell_type": "code",
   "execution_count": 4,
   "metadata": {},
   "outputs": [],
   "source": [
    "# six years model\n",
    "df = df.dropna(axis = 0, how='any', subset=['stem', 'sixrate'])\n",
    "df.reset_index(drop=True, inplace=True)\n",
    "\n",
    "model = df[['academic_support_FTE', 'student_service_FTE', 'research_FTE', 'SATtoACT_math_25', \n",
    "             'pell_grants', 'stem', 'salary_instruction', 'female', 'white_percent', \n",
    "             'hispanic_percent', 'asian_percent', 'R1']]\n",
    "\n",
    "y = df['sixrate']\n",
    "w = df['pwht']\n",
    "s = df['state']\n",
    "\n",
    "# regression\n",
    "m_six = sm.WLS(y, sm.add_constant(model), weights = w).fit(cov_type='cluster', cov_kwds = {'groups': s}) \n",
    "\n",
    "m_six = m_six.params[m_six.pvalues < 0.1]"
   ]
  },
  {
   "cell_type": "code",
   "execution_count": 5,
   "metadata": {},
   "outputs": [
    {
     "name": "stdout",
     "output_type": "stream",
     "text": [
      "const                  -5.020094\n",
      "academic_support_FTE    0.015825\n",
      "research_FTE           -0.010879\n",
      "SATtoACT_math_25        0.125266\n",
      "salary_instruction      0.171654\n",
      "female                  0.021494\n",
      "R1                      0.216523\n",
      "dtype: float64\n"
     ]
    }
   ],
   "source": [
    "print(m_six)"
   ]
  },
  {
   "cell_type": "code",
   "execution_count": 6,
   "metadata": {},
   "outputs": [],
   "source": [
    "# four year model\n",
    "df2 = df.dropna(axis = 0, how='any', subset=['stem', 'fourrate'])\n",
    "df2.reset_index(drop=True, inplace=True)\n",
    "\n",
    "model = df2[['academic_support_FTE', 'student_service_FTE', 'research_FTE', 'SATtoACT_math_25', \n",
    "             'pell_grants', 'stem', 'salary_instruction', 'female', 'white_percent', \n",
    "             'hispanic_percent', 'asian_percent', 'R1']]\n",
    "\n",
    "y = df2['fourrate']\n",
    "w = df2['pwht']\n",
    "s = df2['state']\n",
    "\n",
    "# regression\n",
    "m_four = sm.WLS(y, sm.add_constant(model), weights = w).fit(cov_type='cluster', cov_kwds = {'groups': s}) \n",
    "\n",
    "m_four = m_four.params[m_four.pvalues < 0.1]"
   ]
  },
  {
   "cell_type": "code",
   "execution_count": 7,
   "metadata": {},
   "outputs": [],
   "source": [
    "# retent year model\n",
    "df3 = df.dropna(axis = 0, how='any', subset=['stem', 'retentionrate'])\n",
    "df3.reset_index(drop=True, inplace=True)\n",
    "\n",
    "model = df3[['academic_support_FTE', 'student_service_FTE', 'research_FTE', 'SATtoACT_math_25', \n",
    "             'pell_grants', 'stem', 'salary_instruction', 'female', 'white_percent', \n",
    "             'hispanic_percent', 'asian_percent', 'R1']]\n",
    "\n",
    "y = df3['retentionrate']\n",
    "w = df3['pwht']\n",
    "s = df3['state']\n",
    "\n",
    "# regression\n",
    "m_retent = sm.WLS(y, sm.add_constant(model), weights = w).fit(cov_type='cluster', cov_kwds = {'groups': s}) \n",
    "\n",
    "m_retent = m_retent.params[m_retent.pvalues < 0.1]"
   ]
  },
  {
   "cell_type": "code",
   "execution_count": 8,
   "metadata": {},
   "outputs": [],
   "source": [
    "# retent year model\n",
    "df4 = df.dropna(axis = 0, how='any', subset=['stem', 'early_careerlog'])\n",
    "df4.reset_index(drop=True, inplace=True)\n",
    "\n",
    "model = df4[['academic_support_FTE', 'student_service_FTE', 'research_FTE', 'SATtoACT_math_25', \n",
    "             'pell_grants', 'stem', 'salary_instruction', 'female', 'white_percent', \n",
    "             'hispanic_percent', 'asian_percent', 'R1']]\n",
    "\n",
    "y = df4['early_careerlog']\n",
    "w = df4['pwht']\n",
    "s = df4['state']\n",
    "\n",
    "# regression\n",
    "m_salary = sm.WLS(y, sm.add_constant(model), weights = w).fit(cov_type='cluster', cov_kwds = {'groups': s}) \n",
    "\n",
    "m_salary = m_salary.params[m_salary.pvalues < 0.1]"
   ]
  },
  {
   "cell_type": "markdown",
   "metadata": {},
   "source": [
    "#export table"
   ]
  },
  {
   "cell_type": "code",
   "execution_count": 9,
   "metadata": {},
   "outputs": [
    {
     "name": "stdout",
     "output_type": "stream",
     "text": [
      "const                  -6.761399\n",
      "academic_support_FTE    0.016140\n",
      "research_FTE           -0.007194\n",
      "SATtoACT_math_25        0.149123\n",
      "pell_grants            -0.021474\n",
      "salary_instruction      0.157564\n",
      "female                  0.040417\n",
      "dtype: float64\n",
      "const                  -5.020094\n",
      "academic_support_FTE    0.015825\n",
      "research_FTE           -0.010879\n",
      "SATtoACT_math_25        0.125266\n",
      "salary_instruction      0.171654\n",
      "female                  0.021494\n",
      "R1                      0.216523\n",
      "dtype: float64\n",
      "const                  -2.032271\n",
      "academic_support_FTE    0.009459\n",
      "research_FTE           -0.007768\n",
      "SATtoACT_math_25        0.097787\n",
      "stem                    0.007833\n",
      "salary_instruction      0.107030\n",
      "female                  0.016389\n",
      "R1                      0.324152\n",
      "dtype: float64\n",
      "const                  10.831661\n",
      "student_service_FTE     0.004950\n",
      "pell_grants            -0.002624\n",
      "stem                    0.003057\n",
      "salary_instruction      0.014912\n",
      "female                 -0.002482\n",
      "dtype: float64\n"
     ]
    }
   ],
   "source": [
    "print(m_four)\n",
    "print(m_six)\n",
    "print(m_retent)\n",
    "print(m_salary)"
   ]
  }
 ],
 "metadata": {
  "kernelspec": {
   "display_name": "Python 3",
   "language": "python",
   "name": "python3"
  },
  "language_info": {
   "codemirror_mode": {
    "name": "ipython",
    "version": 3
   },
   "file_extension": ".py",
   "mimetype": "text/x-python",
   "name": "python",
   "nbconvert_exporter": "python",
   "pygments_lexer": "ipython3",
   "version": "3.7.6"
  }
 },
 "nbformat": 4,
 "nbformat_minor": 4
}
