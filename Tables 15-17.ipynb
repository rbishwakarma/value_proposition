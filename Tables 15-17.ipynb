{
 "cells": [
  {
   "cell_type": "code",
   "execution_count": 1,
   "metadata": {},
   "outputs": [],
   "source": [
    "# basic packages\n",
    "import pandas as pd\n",
    "pd.set_option('display.max_rows', 500)\n",
    "pd.set_option('display.max_columns', 500)\n",
    "pd.set_option('display.width', 1000)\n",
    "from pandas.core.common import SettingWithCopyWarning\n",
    "pd.options.mode.chained_assignment = None\n",
    "\n",
    "\n",
    "import numpy as np\n",
    "import os"
   ]
  },
  {
   "cell_type": "code",
   "execution_count": 2,
   "metadata": {},
   "outputs": [],
   "source": [
    "# modeling packages\n",
    "import statsmodels.api as sm\n",
    "import statsmodels.formula as smf\n",
    "from statsmodels.iolib.summary2 import summary_col # creating summary tables\n",
    "import math"
   ]
  },
  {
   "cell_type": "markdown",
   "metadata": {},
   "source": [
    "# Table 15"
   ]
  },
  {
   "cell_type": "code",
   "execution_count": 3,
   "metadata": {},
   "outputs": [],
   "source": [
    "# main data\n",
    "os.chdir('C:\\\\Users\\\\rbishwakarma\\\\Desktop\\\\value_proposition_in_python\\\\value_proposition')\n",
    "df = pd.read_stata('final.dta')\n",
    "\n",
    "# removing missing universities for the analysis\n",
    "df = df.dropna(axis = 0, how = 'any', subset = ['retentionrate'])\n",
    "\n",
    "# dropping values from the missing\n",
    "df2 = df.dropna(axis = 0, how='any', subset=['stem'])\n",
    "df2.reset_index(drop=True, inplace=True)"
   ]
  },
  {
   "cell_type": "code",
   "execution_count": 4,
   "metadata": {},
   "outputs": [],
   "source": [
    "# models\n",
    "model1 = df[['SCE', 'SCE2', 'R1']]\n",
    "\n",
    "model2 = df2[['SCE', 'SCE2', 'research_FTE', 'SATtoACT_math_25', 'pell_grants', 'stem', 'R1']]\n",
    "\n",
    "model3 = df2[['SCE', 'SCE2', 'research_FTE', 'SATtoACT_math_25', 'pell_grants', 'stem',\n",
    "             'female', 'white_percent', 'hispanic_percent', 'asian_percent', 'R1']]\n",
    "\n",
    "models = [model2, model3]\n",
    "\n",
    "models_name = ['model2', 'model3']"
   ]
  },
  {
   "cell_type": "code",
   "execution_count": 5,
   "metadata": {},
   "outputs": [],
   "source": [
    "# weights\n",
    "# Model 1\n",
    "y1 = df['retentionrate']\n",
    "\n",
    "ols = sm.OLS(y1, sm.add_constant(model1)).fit()\n",
    "reisiduals = abs(ols.resid) # absolute value of the residuals\n",
    "\n",
    "# step 2\n",
    "ols2 = sm.OLS(reisiduals, sm.add_constant(df['students_FTE_total'])).fit()\n",
    "fitted = ols2.predict()\n",
    "\n",
    "# weight\n",
    "weights = (1/fitted)**2\n",
    "df.loc[:,'weight_model1'] = weights\n",
    "\n",
    "\n",
    "# Models 2 and 3\n",
    "y = df2['retentionrate']\n",
    "weight = df2['students_FTE_total']\n",
    "\n",
    "# creating weights\n",
    "for i in range(len(models)):\n",
    "    # step 1\n",
    "    ols = sm.OLS(y, sm.add_constant(models[i])).fit()\n",
    "    reisdual = abs(ols.resid) \n",
    "\n",
    "    # step 2\n",
    "    ols2 = sm.OLS(reisdual, sm.add_constant(weight)).fit()\n",
    "    fitted = ols2.predict()\n",
    "\n",
    "    # weight\n",
    "    weights = (1/fitted)**2\n",
    "    df2.loc[:, 'weight_'+str(models_name[i])] = weights\n",
    "    "
   ]
  },
  {
   "cell_type": "code",
   "execution_count": 6,
   "metadata": {},
   "outputs": [],
   "source": [
    "# WLS model 1\n",
    "m1 = sm.WLS(y1, sm.add_constant(model1), weights = df['weight_model1']).fit() \n",
    "df.loc[:, 'predict1'] = m1.predict()\n",
    "\n",
    "# models 2 and 3\n",
    "m2 = sm.WLS(y, sm.add_constant(model2), weights = df2['weight_model2']).fit() \n",
    "df2.loc[:,'predict2'] = m2.predict()\n",
    "\n",
    "m3 = sm.WLS(y, sm.add_constant(model3), weights = df2['weight_model3']).fit() \n",
    "df2.loc[:,'predict3'] = m3.predict()"
   ]
  },
  {
   "cell_type": "code",
   "execution_count": 7,
   "metadata": {},
   "outputs": [
    {
     "name": "stdout",
     "output_type": "stream",
     "text": [
      "Predicted UNM m1  0.8801\n",
      "Predicted UNM m2  0.8275\n",
      "Predicted UNM m3  0.8325\n"
     ]
    }
   ],
   "source": [
    "# prediction - model1\n",
    "x = df[df.name == 'University of New Mexico-Main Campus'].predict1\n",
    "p1 = math.exp(x)/(1+math.exp(x))\n",
    "print('Predicted UNM m1''  ' '%0.4f' % p1)\n",
    "\n",
    "# predicted values WLS\n",
    "columns = ['predict2', 'predict3']\n",
    "names = ['m2', 'm3']\n",
    "\n",
    "table_unm = df2.loc[df2['name'] == 'University of New Mexico-Main Campus']\n",
    "\n",
    "for i in range(len(columns)): \n",
    "    x = table_unm[columns[i]]\n",
    "    p = math.exp(x)/(1+math.exp(x))\n",
    "    print('Predicted UNM '+str(names[i]) + '  ' '%0.4f' % p)"
   ]
  },
  {
   "cell_type": "code",
   "execution_count": 8,
   "metadata": {},
   "outputs": [],
   "source": [
    "# OLS models\n",
    "w = df2['pwht']\n",
    "s = df2['state']\n",
    "# regression results\n",
    "m4 = sm.WLS(y1, sm.add_constant(model1), weights = df['pwht']).fit(cov_type='cluster', cov_kwds = {'groups': df['state']}) \n",
    "df.loc[:,'predict4'] = m4.predict()\n",
    "\n",
    "m5 = sm.WLS(y, sm.add_constant(model2), weights = w).fit(cov_type='cluster', cov_kwds = {'groups': s}) \n",
    "df2.loc[:,'predict5'] = m5.predict()\n",
    "\n",
    "m6 = sm.WLS(y, sm.add_constant(model3), weights = w).fit(cov_type='cluster', cov_kwds = {'groups': s}) \n",
    "df2.loc[:,'predict6'] = m6.predict()"
   ]
  },
  {
   "cell_type": "code",
   "execution_count": 9,
   "metadata": {},
   "outputs": [
    {
     "name": "stdout",
     "output_type": "stream",
     "text": [
      "Predicted UNM m4  0.8768\n",
      "Predicted UNM m5  0.8282\n",
      "Predicted UNM m6  0.8418\n"
     ]
    }
   ],
   "source": [
    "# prediction\n",
    "x = df[df.name == 'University of New Mexico-Main Campus'].predict4\n",
    "p4 = math.exp(x)/(1+math.exp(x))\n",
    "print('Predicted UNM m4''  ' '%0.4f' % p4)\n",
    "\n",
    "#predicted values - OLS\n",
    "columns = ['predict5', 'predict6']\n",
    "names = ['m5', 'm6']\n",
    "\n",
    "table_unm = df2.loc[df2['name'] == 'University of New Mexico-Main Campus']\n",
    "\n",
    "for i in range(len(columns)): \n",
    "    x = table_unm[columns[i]]\n",
    "    p = math.exp(x)/(1+math.exp(x))\n",
    "    print('Predicted UNM '+str(names[i]) + '  ' '%0.4f' % p)"
   ]
  },
  {
   "cell_type": "code",
   "execution_count": 10,
   "metadata": {},
   "outputs": [],
   "source": [
    "# display and print table\n",
    "table = summary_col([m1, m4, m2, m5, m3, m6], stars=True, float_format='%0.3f',\n",
    "                      regressor_order = ['SCE', 'SCE2',\n",
    "                      'R1', 'research_FTE', 'SATtoACT_math_25', 'pell_grants', 'stem', 'female', \n",
    "                      'white_percent', 'hispanic_percent', \n",
    "                      'asian_percent', 'const'],\n",
    "                      model_names = ['(1)\\n WLS', '(2)\\n OLS-VCE','(3)\\n WLS', '(4)\\n OLS-VCE', \n",
    "                                     '(5) \\n WLS', '(6)\\n OLS'],\n",
    "                      info_dict={'R2':lambda x: \"{:.2f}\".format(x.rsquared),\n",
    "                                'N':lambda x: \"{0:d}\".format(int(x.nobs))})\n",
    "# export table\n",
    "os.chdir('C:\\\\Users\\\\rbishwakarma\\\\Desktop\\\\value_proposition_in_python\\\\value_proposition\\\\tables')\n",
    "\n",
    "results_text = table.as_text()\n",
    "\n",
    "text_file = open(\"table15.txt\", \"w\")\n",
    "text_file.write(results_text)\n",
    "text_file.close()\n"
   ]
  },
  {
   "cell_type": "markdown",
   "metadata": {},
   "source": [
    "# Table 16"
   ]
  },
  {
   "cell_type": "code",
   "execution_count": 11,
   "metadata": {},
   "outputs": [],
   "source": [
    "# main data\n",
    "os.chdir('C:\\\\Users\\\\rbishwakarma\\\\Desktop\\\\value_proposition_in_python\\\\value_proposition')\n",
    "df = pd.read_stata('final.dta')\n",
    "\n",
    "# removing missing universities for the analysis\n",
    "df = df.dropna(axis = 0, how = 'any', subset = ['fourrate'])\n",
    "\n",
    "# dropping values from the missing\n",
    "df2 = df.dropna(axis = 0, how='any', subset=['stem'])\n",
    "df2.reset_index(drop=True, inplace=True)"
   ]
  },
  {
   "cell_type": "code",
   "execution_count": 12,
   "metadata": {},
   "outputs": [],
   "source": [
    "# models\n",
    "model1 = df[['SCE', 'SCE2', 'R1']]\n",
    "\n",
    "model2 = df2[['SCE', 'SCE2', 'research_FTE', 'SATtoACT_math_25', 'pell_grants', 'stem', 'R1']]\n",
    "\n",
    "model3 = df2[['SCE', 'SCE2', 'research_FTE', 'SATtoACT_math_25', 'pell_grants', 'stem',\n",
    "             'female', 'white_percent', 'hispanic_percent', 'asian_percent', 'R1']]\n",
    "\n",
    "models = [model2, model3]\n",
    "\n",
    "models_name = ['model2', 'model3']"
   ]
  },
  {
   "cell_type": "code",
   "execution_count": 13,
   "metadata": {},
   "outputs": [],
   "source": [
    "# weights\n",
    "# Model 1\n",
    "y1 = df['fourrate']\n",
    "\n",
    "ols = sm.OLS(y1, sm.add_constant(model1)).fit()\n",
    "reisiduals = abs(ols.resid) # absolute value of the residuals\n",
    "\n",
    "# step 2\n",
    "ols2 = sm.OLS(reisiduals, sm.add_constant(df['students_FTE_total'])).fit()\n",
    "fitted = ols2.predict()\n",
    "\n",
    "# weight\n",
    "weights = (1/fitted)**2\n",
    "df.loc[:,'weight_model1'] = weights\n",
    "\n",
    "\n",
    "# Models 2 and 3\n",
    "y = df2['fourrate']\n",
    "weight = df2['students_FTE_total']\n",
    "\n",
    "# creating weights\n",
    "for i in range(len(models)):\n",
    "    # step 1\n",
    "    ols = sm.OLS(y, sm.add_constant(models[i])).fit()\n",
    "    reisdual = abs(ols.resid) \n",
    "\n",
    "    # step 2\n",
    "    ols2 = sm.OLS(reisdual, sm.add_constant(weight)).fit()\n",
    "    fitted = ols2.predict()\n",
    "\n",
    "    # weight\n",
    "    weights = (1/fitted)**2\n",
    "    df2.loc[:, 'weight_'+str(models_name[i])] = weights"
   ]
  },
  {
   "cell_type": "code",
   "execution_count": 14,
   "metadata": {},
   "outputs": [],
   "source": [
    "# WLS model 1\n",
    "m1 = sm.WLS(y1, sm.add_constant(model1), weights = df['weight_model1']).fit() \n",
    "df.loc[:, 'predict1'] = m1.predict()\n",
    "\n",
    "# models 2 and 3\n",
    "m2 = sm.WLS(y, sm.add_constant(model2), weights = df2['weight_model2']).fit() \n",
    "df2.loc[:,'predict2'] = m2.predict()\n",
    "\n",
    "m3 = sm.WLS(y, sm.add_constant(model3), weights = df2['weight_model3']).fit() \n",
    "df2.loc[:,'predict3'] = m3.predict()"
   ]
  },
  {
   "cell_type": "code",
   "execution_count": 15,
   "metadata": {},
   "outputs": [
    {
     "name": "stdout",
     "output_type": "stream",
     "text": [
      "Predicted UNM m1  0.4275\n",
      "Predicted UNM m2  0.2931\n",
      "Predicted UNM m3  0.2940\n"
     ]
    }
   ],
   "source": [
    "# prediction - model1\n",
    "x = df[df.name == 'University of New Mexico-Main Campus'].predict1\n",
    "p1 = math.exp(x)/(1+math.exp(x))\n",
    "print('Predicted UNM m1''  ' '%0.4f' % p1)\n",
    "\n",
    "# predicted values WLS\n",
    "columns = ['predict2', 'predict3']\n",
    "names = ['m2', 'm3']\n",
    "\n",
    "table_unm = df2.loc[df2['name'] == 'University of New Mexico-Main Campus']\n",
    "\n",
    "for i in range(len(columns)): \n",
    "    x = table_unm[columns[i]]\n",
    "    p = math.exp(x)/(1+math.exp(x))\n",
    "    print('Predicted UNM '+str(names[i]) + '  ' '%0.4f' % p)"
   ]
  },
  {
   "cell_type": "code",
   "execution_count": 16,
   "metadata": {},
   "outputs": [],
   "source": [
    "# OLS models\n",
    "w = df2['pwht']\n",
    "s = df2['state']\n",
    "# regression results\n",
    "m4 = sm.WLS(y1, sm.add_constant(model1), weights = df['pwht']).fit(cov_type='cluster', cov_kwds = {'groups': df['state']}) \n",
    "df.loc[:,'predict4'] = m4.predict()\n",
    "\n",
    "m5 = sm.WLS(y, sm.add_constant(model2), weights = w).fit(cov_type='cluster', cov_kwds = {'groups': s}) \n",
    "df2.loc[:,'predict5'] = m5.predict()\n",
    "\n",
    "m6 = sm.WLS(y, sm.add_constant(model3), weights = w).fit(cov_type='cluster', cov_kwds = {'groups': s}) \n",
    "df2.loc[:,'predict6'] = m6.predict()"
   ]
  },
  {
   "cell_type": "code",
   "execution_count": 17,
   "metadata": {},
   "outputs": [
    {
     "name": "stdout",
     "output_type": "stream",
     "text": [
      "Predicted UNM m4  0.4298\n",
      "Predicted UNM m5  0.2961\n",
      "Predicted UNM m6  0.2931\n"
     ]
    }
   ],
   "source": [
    "# prediction\n",
    "x = df[df.name == 'University of New Mexico-Main Campus'].predict4\n",
    "p4 = math.exp(x)/(1+math.exp(x))\n",
    "print('Predicted UNM m4''  ' '%0.4f' % p4)\n",
    "\n",
    "#predicted values - OLS\n",
    "columns = ['predict5', 'predict6']\n",
    "names = ['m5', 'm6']\n",
    "\n",
    "table_unm = df2.loc[df2['name'] == 'University of New Mexico-Main Campus']\n",
    "\n",
    "for i in range(len(columns)): \n",
    "    x = table_unm[columns[i]]\n",
    "    p = math.exp(x)/(1+math.exp(x))\n",
    "    print('Predicted UNM '+str(names[i]) + '  ' '%0.4f' % p)"
   ]
  },
  {
   "cell_type": "code",
   "execution_count": 18,
   "metadata": {},
   "outputs": [],
   "source": [
    "# display and print table\n",
    "table = summary_col([m1, m4, m2, m5, m3, m6], stars=True, float_format='%0.3f',\n",
    "                      regressor_order = ['SCE', 'SCE2',\n",
    "                      'R1', 'research_FTE', 'SATtoACT_math_25', 'pell_grants', 'stem', 'female', \n",
    "                      'white_percent', 'hispanic_percent', \n",
    "                      'asian_percent', 'const'],\n",
    "                      model_names = ['(1)\\n WLS', '(2)\\n OLS-VCE','(3)\\n WLS', '(4)\\n OLS-VCE', \n",
    "                                     '(5) \\n WLS', '(6)\\n OLS'],\n",
    "                      info_dict={'R2':lambda x: \"{:.2f}\".format(x.rsquared),\n",
    "                                'N':lambda x: \"{0:d}\".format(int(x.nobs))})\n",
    "# export table\n",
    "os.chdir('C:\\\\Users\\\\rbishwakarma\\\\Desktop\\\\value_proposition_in_python\\\\value_proposition\\\\tables')\n",
    "\n",
    "results_text = table.as_text()\n",
    "\n",
    "text_file = open(\"table16.txt\", \"w\")\n",
    "text_file.write(results_text)\n",
    "text_file.close()"
   ]
  },
  {
   "cell_type": "markdown",
   "metadata": {},
   "source": [
    "# Table 17"
   ]
  },
  {
   "cell_type": "code",
   "execution_count": 19,
   "metadata": {},
   "outputs": [],
   "source": [
    "# main data\n",
    "os.chdir('C:\\\\Users\\\\rbishwakarma\\\\Desktop\\\\value_proposition_in_python\\\\value_proposition')\n",
    "df = pd.read_stata('final.dta')\n",
    "\n",
    "# removing missing universities for the analysis\n",
    "df = df.dropna(axis = 0, how = 'any', subset = ['sixrate'])\n",
    "\n",
    "# dropping values from the missing\n",
    "df2 = df.dropna(axis = 0, how='any', subset=['stem'])\n",
    "df2.reset_index(drop=True, inplace=True)"
   ]
  },
  {
   "cell_type": "code",
   "execution_count": 20,
   "metadata": {},
   "outputs": [],
   "source": [
    "# models\n",
    "model1 = df[['SCE', 'SCE2', 'R1']]\n",
    "\n",
    "model2 = df2[['SCE', 'SCE2', 'research_FTE', 'SATtoACT_math_25', 'pell_grants', 'stem', 'R1']]\n",
    "\n",
    "model3 = df2[['SCE', 'SCE2', 'research_FTE', 'SATtoACT_math_25', 'pell_grants', 'stem',\n",
    "             'female', 'white_percent', 'hispanic_percent', 'asian_percent', 'R1']]\n",
    "\n",
    "models = [model2, model3]\n",
    "\n",
    "models_name = ['model2', 'model3']"
   ]
  },
  {
   "cell_type": "code",
   "execution_count": 21,
   "metadata": {},
   "outputs": [],
   "source": [
    "# weights\n",
    "# Model 1\n",
    "y1 = df['sixrate']\n",
    "\n",
    "ols = sm.OLS(y1, sm.add_constant(model1)).fit()\n",
    "reisiduals = abs(ols.resid) # absolute value of the residuals\n",
    "\n",
    "# step 2\n",
    "ols2 = sm.OLS(reisiduals, sm.add_constant(df['students_FTE_total'])).fit()\n",
    "fitted = ols2.predict()\n",
    "\n",
    "# weight\n",
    "weights = (1/fitted)**2\n",
    "df.loc[:,'weight_model1'] = weights\n",
    "\n",
    "\n",
    "# Models 2 and 3\n",
    "y = df2['sixrate']\n",
    "weight = df2['students_FTE_total']\n",
    "\n",
    "# creating weights\n",
    "for i in range(len(models)):\n",
    "    # step 1\n",
    "    ols = sm.OLS(y, sm.add_constant(models[i])).fit()\n",
    "    reisdual = abs(ols.resid) \n",
    "\n",
    "    # step 2\n",
    "    ols2 = sm.OLS(reisdual, sm.add_constant(weight)).fit()\n",
    "    fitted = ols2.predict()\n",
    "\n",
    "    # weight\n",
    "    weights = (1/fitted)**2\n",
    "    df2.loc[:, 'weight_'+str(models_name[i])] = weights"
   ]
  },
  {
   "cell_type": "code",
   "execution_count": 22,
   "metadata": {},
   "outputs": [],
   "source": [
    "# WLS model 1\n",
    "m1 = sm.WLS(y1, sm.add_constant(model1), weights = df['weight_model1']).fit() \n",
    "df.loc[:, 'predict1'] = m1.predict()\n",
    "\n",
    "# models 2 and 3\n",
    "m2 = sm.WLS(y, sm.add_constant(model2), weights = df2['weight_model2']).fit() \n",
    "df2.loc[:,'predict2'] = m2.predict()\n",
    "\n",
    "m3 = sm.WLS(y, sm.add_constant(model3), weights = df2['weight_model3']).fit() \n",
    "df2.loc[:,'predict3'] = m3.predict()"
   ]
  },
  {
   "cell_type": "code",
   "execution_count": 23,
   "metadata": {},
   "outputs": [
    {
     "name": "stdout",
     "output_type": "stream",
     "text": [
      "Predicted UNM m1  0.6932\n",
      "Predicted UNM m2  0.5788\n",
      "Predicted UNM m3  0.5747\n"
     ]
    }
   ],
   "source": [
    "# prediction - model1\n",
    "x = df[df.name == 'University of New Mexico-Main Campus'].predict1\n",
    "p1 = math.exp(x)/(1+math.exp(x))\n",
    "print('Predicted UNM m1''  ' '%0.4f' % p1)\n",
    "\n",
    "# predicted values WLS\n",
    "columns = ['predict2', 'predict3']\n",
    "names = ['m2', 'm3']\n",
    "\n",
    "table_unm = df2.loc[df2['name'] == 'University of New Mexico-Main Campus']\n",
    "\n",
    "for i in range(len(columns)): \n",
    "    x = table_unm[columns[i]]\n",
    "    p = math.exp(x)/(1+math.exp(x))\n",
    "    print('Predicted UNM '+str(names[i]) + '  ' '%0.4f' % p)"
   ]
  },
  {
   "cell_type": "code",
   "execution_count": 24,
   "metadata": {},
   "outputs": [],
   "source": [
    "# OLS models\n",
    "w = df2['pwht']\n",
    "s = df2['state']\n",
    "# regression results\n",
    "m4 = sm.WLS(y1, sm.add_constant(model1), weights = df['pwht']).fit(cov_type='cluster', cov_kwds = {'groups': df['state']}) \n",
    "df.loc[:,'predict4'] = m4.predict()\n",
    "\n",
    "m5 = sm.WLS(y, sm.add_constant(model2), weights = w).fit(cov_type='cluster', cov_kwds = {'groups': s}) \n",
    "df2.loc[:,'predict5'] = m5.predict()\n",
    "\n",
    "m6 = sm.WLS(y, sm.add_constant(model3), weights = w).fit(cov_type='cluster', cov_kwds = {'groups': s}) \n",
    "df2.loc[:,'predict6'] = m6.predict()"
   ]
  },
  {
   "cell_type": "code",
   "execution_count": 25,
   "metadata": {},
   "outputs": [
    {
     "name": "stdout",
     "output_type": "stream",
     "text": [
      "Predicted UNM m4  0.6880\n",
      "Predicted UNM m5  0.5772\n",
      "Predicted UNM m6  0.5916\n"
     ]
    }
   ],
   "source": [
    "# prediction\n",
    "x = df[df.name == 'University of New Mexico-Main Campus'].predict4\n",
    "p4 = math.exp(x)/(1+math.exp(x))\n",
    "print('Predicted UNM m4''  ' '%0.4f' % p4)\n",
    "\n",
    "#predicted values - OLS\n",
    "columns = ['predict5', 'predict6']\n",
    "names = ['m5', 'm6']\n",
    "\n",
    "table_unm = df2.loc[df2['name'] == 'University of New Mexico-Main Campus']\n",
    "\n",
    "for i in range(len(columns)): \n",
    "    x = table_unm[columns[i]]\n",
    "    p = math.exp(x)/(1+math.exp(x))\n",
    "    print('Predicted UNM '+str(names[i]) + '  ' '%0.4f' % p)"
   ]
  },
  {
   "cell_type": "code",
   "execution_count": 26,
   "metadata": {},
   "outputs": [],
   "source": [
    "# display and print table\n",
    "table = summary_col([m1, m4, m2, m5, m3, m6], stars=True, float_format='%0.3f',\n",
    "                      regressor_order = ['SCE', 'SCE2',\n",
    "                      'R1', 'research_FTE', 'SATtoACT_math_25', 'pell_grants', 'stem', 'female', \n",
    "                      'white_percent', 'hispanic_percent', \n",
    "                      'asian_percent', 'const'],\n",
    "                      model_names = ['(1)\\n WLS', '(2)\\n OLS-VCE','(3)\\n WLS', '(4)\\n OLS-VCE', \n",
    "                                     '(5) \\n WLS', '(6)\\n OLS'],\n",
    "                      info_dict={'R2':lambda x: \"{:.2f}\".format(x.rsquared),\n",
    "                                'N':lambda x: \"{0:d}\".format(int(x.nobs))})\n",
    "# export table\n",
    "os.chdir('C:\\\\Users\\\\rbishwakarma\\\\Desktop\\\\value_proposition_in_python\\\\value_proposition\\\\tables')\n",
    "\n",
    "results_text = table.as_text()\n",
    "\n",
    "text_file = open(\"table17.txt\", \"w\")\n",
    "text_file.write(results_text)\n",
    "text_file.close()"
   ]
  }
 ],
 "metadata": {
  "kernelspec": {
   "display_name": "Python 3",
   "language": "python",
   "name": "python3"
  },
  "language_info": {
   "codemirror_mode": {
    "name": "ipython",
    "version": 3
   },
   "file_extension": ".py",
   "mimetype": "text/x-python",
   "name": "python",
   "nbconvert_exporter": "python",
   "pygments_lexer": "ipython3",
   "version": "3.7.6"
  }
 },
 "nbformat": 4,
 "nbformat_minor": 4
}
