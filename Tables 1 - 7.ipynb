{
 "cells": [
  {
   "cell_type": "code",
   "execution_count": 17,
   "metadata": {},
   "outputs": [],
   "source": [
    "# all the packages\n",
    "import pandas as pd\n",
    "pd.set_option('display.max_rows', 500)\n",
    "pd.set_option('display.max_columns', 500)\n",
    "pd.set_option('display.width', 1000)\n",
    "\n",
    "import numpy as np\n",
    "import math as m\n",
    "import os"
   ]
  },
  {
   "cell_type": "code",
   "execution_count": 18,
   "metadata": {},
   "outputs": [],
   "source": [
    "# directory with the data\n",
    "os.chdir('C:\\\\Users\\\\rbishwakarma\\\\Desktop\\\\value_proposition_in_python\\\\value_proposition')\n",
    "# main data\n",
    "df = pd.read_stata('final.dta')\n",
    "\n",
    "# R1 and public\n",
    "df2 = df[(df['public_uni'] != 0) & (df['R1'] != 0)]"
   ]
  },
  {
   "cell_type": "code",
   "execution_count": 19,
   "metadata": {},
   "outputs": [],
   "source": [
    "# change working directory to keep all tables in one folder\n",
    "os.chdir('C:\\\\Users\\\\rbishwakarma\\\\Desktop\\\\value_proposition_in_python\\\\value_proposition\\\\tables')"
   ]
  },
  {
   "cell_type": "code",
   "execution_count": 20,
   "metadata": {},
   "outputs": [],
   "source": [
    "# Descriptive tables\n",
    "# tables\n",
    "table1 = ['retention_rate', 'graduation_four', 'graduation_six','early_career']\n",
    "table2 = ['instruction_FTE', 'academic_support_FTE', 'student_service_FTE', \n",
    "          'research_FTE', 'institutional_support_FTE', 'public_service_FTE', 'all_other_FTE']\n",
    "table3 = ['SCE', 'expense_ratio']\n",
    "table4 = ['SATtoACT_math_25', 'ACT_compsite_25', 'pell_grants', 'stem', 'par_median']\n",
    "table5 = ['female', 'white_percent', 'hispanic_percent', 'asian_percent', 'black_percent', 'american_indian_percent']\n",
    "table6 = ['R1', 'public', 'salary_instruction', 'student_faculty_ratio', 'ug_total', 'grad_total']\n",
    "table7 = ['labor_market', 'labor_market_STEM', 'unemployment15', 'performance_funding_state']\n",
    "\n",
    "columns = [table1, table2, table3, table4, table5, table6, table7]\n",
    "filename = ['table1', 'table2', 'table3', 'table4', 'table5', 'table6', 'table7']\n",
    "\n",
    "dataframe = [df, df2]\n",
    "filename2 = ['all', 'r1_pub']\n",
    "\n",
    "# calculating descriptive \n",
    "def descriptive(dataframe, columns):\n",
    "    for j in range(len(dataframe)):\n",
    "        for i in range(len(columns)):\n",
    "            table = dataframe[j][columns[i]].describe().loc[['count','mean', 'std']] \n",
    "            table = round(table, 2).transpose().rename_axis('variable',axis=0).reset_index()\n",
    "            #table = pd.Index(['variable', 'count','mean', 'std'])\n",
    "            table.to_csv(str(filename[i])+'_'+str(filename2[j])+'.csv', index = False)\n",
    "    return table\n"
   ]
  },
  {
   "cell_type": "code",
   "execution_count": 21,
   "metadata": {},
   "outputs": [
    {
     "data": {
      "text/html": [
       "<div>\n",
       "<style scoped>\n",
       "    .dataframe tbody tr th:only-of-type {\n",
       "        vertical-align: middle;\n",
       "    }\n",
       "\n",
       "    .dataframe tbody tr th {\n",
       "        vertical-align: top;\n",
       "    }\n",
       "\n",
       "    .dataframe thead th {\n",
       "        text-align: right;\n",
       "    }\n",
       "</style>\n",
       "<table border=\"1\" class=\"dataframe\">\n",
       "  <thead>\n",
       "    <tr style=\"text-align: right;\">\n",
       "      <th></th>\n",
       "      <th>variable</th>\n",
       "      <th>count</th>\n",
       "      <th>mean</th>\n",
       "      <th>std</th>\n",
       "    </tr>\n",
       "  </thead>\n",
       "  <tbody>\n",
       "    <tr>\n",
       "      <th>0</th>\n",
       "      <td>labor_market</td>\n",
       "      <td>80.0</td>\n",
       "      <td>21.76</td>\n",
       "      <td>13.79</td>\n",
       "    </tr>\n",
       "    <tr>\n",
       "      <th>1</th>\n",
       "      <td>labor_market_STEM</td>\n",
       "      <td>80.0</td>\n",
       "      <td>18.59</td>\n",
       "      <td>12.59</td>\n",
       "    </tr>\n",
       "    <tr>\n",
       "      <th>2</th>\n",
       "      <td>unemployment15</td>\n",
       "      <td>80.0</td>\n",
       "      <td>5.21</td>\n",
       "      <td>0.83</td>\n",
       "    </tr>\n",
       "  </tbody>\n",
       "</table>\n",
       "</div>"
      ],
      "text/plain": [
       "            variable  count   mean    std\n",
       "0       labor_market   80.0  21.76  13.79\n",
       "1  labor_market_STEM   80.0  18.59  12.59\n",
       "2     unemployment15   80.0   5.21   0.83"
      ]
     },
     "execution_count": 21,
     "metadata": {},
     "output_type": "execute_result"
    }
   ],
   "source": [
    "descriptive(dataframe, columns)"
   ]
  },
  {
   "cell_type": "code",
   "execution_count": 22,
   "metadata": {},
   "outputs": [],
   "source": [
    "# UNM values\n",
    "table_unm = df.loc[df['name'] == 'University of New Mexico-Main Campus']\n",
    "\n",
    "def descriptive(table_unm, columns):\n",
    "    for i in range(len(columns)):\n",
    "        table = table_unm[columns[i]].describe().loc['mean'].transpose().rename_axis('variable',axis=0).reset_index() # UNM\n",
    "        table.to_csv(str(filename[i])+'_UNM'+'.csv', index = False)\n",
    "    return table"
   ]
  },
  {
   "cell_type": "code",
   "execution_count": 23,
   "metadata": {},
   "outputs": [
    {
     "data": {
      "text/html": [
       "<div>\n",
       "<style scoped>\n",
       "    .dataframe tbody tr th:only-of-type {\n",
       "        vertical-align: middle;\n",
       "    }\n",
       "\n",
       "    .dataframe tbody tr th {\n",
       "        vertical-align: top;\n",
       "    }\n",
       "\n",
       "    .dataframe thead th {\n",
       "        text-align: right;\n",
       "    }\n",
       "</style>\n",
       "<table border=\"1\" class=\"dataframe\">\n",
       "  <thead>\n",
       "    <tr style=\"text-align: right;\">\n",
       "      <th></th>\n",
       "      <th>variable</th>\n",
       "      <th>mean</th>\n",
       "    </tr>\n",
       "  </thead>\n",
       "  <tbody>\n",
       "    <tr>\n",
       "      <th>0</th>\n",
       "      <td>labor_market</td>\n",
       "      <td>34.0</td>\n",
       "    </tr>\n",
       "    <tr>\n",
       "      <th>1</th>\n",
       "      <td>labor_market_STEM</td>\n",
       "      <td>49.0</td>\n",
       "    </tr>\n",
       "    <tr>\n",
       "      <th>2</th>\n",
       "      <td>unemployment15</td>\n",
       "      <td>6.8</td>\n",
       "    </tr>\n",
       "  </tbody>\n",
       "</table>\n",
       "</div>"
      ],
      "text/plain": [
       "            variable  mean\n",
       "0       labor_market  34.0\n",
       "1  labor_market_STEM  49.0\n",
       "2     unemployment15   6.8"
      ]
     },
     "execution_count": 23,
     "metadata": {},
     "output_type": "execute_result"
    }
   ],
   "source": [
    "descriptive(table_unm, columns)"
   ]
  },
  {
   "cell_type": "markdown",
   "metadata": {},
   "source": [
    "# Create a single table for - all, R1-Public and UNM files\n"
   ]
  },
  {
   "cell_type": "code",
   "execution_count": 24,
   "metadata": {},
   "outputs": [],
   "source": [
    "import glob"
   ]
  },
  {
   "cell_type": "code",
   "execution_count": 25,
   "metadata": {},
   "outputs": [],
   "source": [
    "# merge files\n",
    "def merge_horizontally(flist, **kwargs):\n",
    "    return pd.concat([pd.read_csv(f, **kwargs) for f in flist], axis=1)\n",
    "\n",
    "table1 = os.path.join('table1_*.csv')\n",
    "table1 = merge_horizontally(glob.glob(table1), index_col = None)\n",
    "table1.to_csv('table1.csv', index = False)\n",
    "\n",
    "table2 = os.path.join('table2_*.csv')\n",
    "table2 = merge_horizontally(glob.glob(table2), index_col = None)\n",
    "table2.to_csv('table2.csv', index = False)\n",
    "\n",
    "\n",
    "table3 = os.path.join('table3_*.csv')\n",
    "table3 = merge_horizontally(glob.glob(table3), index_col = None)\n",
    "table3.to_csv('table3.csv', index = False)\n",
    "\n",
    "table4 = os.path.join('table4_*.csv')\n",
    "table4 = merge_horizontally(glob.glob(table4), index_col = None)\n",
    "table4.to_csv('table4.csv', index = False)\n",
    "\n",
    "table5 = os.path.join('table5_*.csv')\n",
    "table5 = merge_horizontally(glob.glob(table5), index_col = None)\n",
    "table5.to_csv('table5.csv', index = False)\n",
    "\n",
    "table6 = os.path.join('table6_*.csv')\n",
    "table6 = merge_horizontally(glob.glob(table6), index_col = None)\n",
    "table6.to_csv('table6.csv', index = False)\n",
    "\n",
    "table7 = os.path.join('table7_*.csv')\n",
    "table7 = merge_horizontally(glob.glob(table7), index_col = None)\n",
    "table7.to_csv('table7.csv', index = False)"
   ]
  },
  {
   "cell_type": "code",
   "execution_count": 26,
   "metadata": {},
   "outputs": [],
   "source": [
    "# Remove temp files\n",
    "for f in glob.glob(\"*all.csv\"):\n",
    "    os.remove(f)\n",
    "    \n",
    "for f in glob.glob('*r1_pub.csv'):\n",
    "    os.remove(f)\n",
    "    \n",
    "for f in glob.glob('*UNM.csv'):\n",
    "    os.remove(f)"
   ]
  },
  {
   "cell_type": "code",
   "execution_count": null,
   "metadata": {},
   "outputs": [],
   "source": []
  }
 ],
 "metadata": {
  "kernelspec": {
   "display_name": "Python 3",
   "language": "python",
   "name": "python3"
  },
  "language_info": {
   "codemirror_mode": {
    "name": "ipython",
    "version": 3
   },
   "file_extension": ".py",
   "mimetype": "text/x-python",
   "name": "python",
   "nbconvert_exporter": "python",
   "pygments_lexer": "ipython3",
   "version": "3.7.6"
  }
 },
 "nbformat": 4,
 "nbformat_minor": 4
}
