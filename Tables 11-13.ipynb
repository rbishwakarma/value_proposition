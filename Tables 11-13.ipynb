{
 "cells": [
  {
   "cell_type": "code",
   "execution_count": 1,
   "metadata": {},
   "outputs": [],
   "source": [
    "# basic packages\n",
    "import pandas as pd\n",
    "pd.set_option('display.max_rows', 500)\n",
    "pd.set_option('display.max_columns', 500)\n",
    "pd.set_option('display.width', 1000)\n",
    "from pandas.core.common import SettingWithCopyWarning\n",
    "pd.options.mode.chained_assignment = None\n",
    "\n",
    "\n",
    "import numpy as np\n",
    "import os"
   ]
  },
  {
   "cell_type": "code",
   "execution_count": 2,
   "metadata": {},
   "outputs": [],
   "source": [
    "# modeling packages\n",
    "import statsmodels.api as sm\n",
    "import statsmodels.formula as smf\n",
    "from statsmodels.iolib.summary2 import summary_col # creating summary tables\n",
    "import math"
   ]
  },
  {
   "cell_type": "code",
   "execution_count": 3,
   "metadata": {},
   "outputs": [],
   "source": [
    "# main data\n",
    "os.chdir('C:\\\\Users\\\\rbishwakarma\\\\Desktop\\\\value_proposition_in_python\\\\value_proposition')\n",
    "df = pd.read_stata('final.dta')"
   ]
  },
  {
   "cell_type": "code",
   "execution_count": 4,
   "metadata": {},
   "outputs": [],
   "source": [
    "# removing missing universities for the analysis\n",
    "df = df.dropna(axis = 0, how = 'any', subset = ['early_careerlog'])\n",
    "\n",
    "# dropping values from the missing\n",
    "df = df.dropna(axis = 0, how='any', subset=['stem'])\n",
    "df.reset_index(drop=True, inplace=True)"
   ]
  },
  {
   "cell_type": "markdown",
   "metadata": {},
   "source": [
    "# Table 12"
   ]
  },
  {
   "cell_type": "code",
   "execution_count": 5,
   "metadata": {},
   "outputs": [],
   "source": [
    "# Models\n",
    "model1 = df[['instruction_FTE', 'academic_support_FTE', 'student_service_FTE', 'R1']]\n",
    "\n",
    "model2 = df[['instruction_FTE', 'academic_support_FTE', 'student_service_FTE', \n",
    "              'research_FTE', 'SATtoACT_math_25', 'pell_grants', 'stem', 'labor_market', 'R1']]\n",
    "\n",
    "model3 = df[['academic_support_FTE', 'student_service_FTE', 'research_FTE', 'SATtoACT_math_25',\n",
    "              'pell_grants', 'stem', 'salary_instruction', 'labor_market', 'R1']]\n",
    "\n",
    "model4 = df[['academic_support_FTE', 'student_service_FTE', 'research_FTE', 'SATtoACT_math_25', \n",
    "             'pell_grants', 'stem', 'salary_instruction', 'female', 'white_percent', \n",
    "             'hispanic_percent', 'asian_percent', 'labor_market', 'R1']]\n",
    "\n",
    "model5 = df[['instruction_FTE', 'academic_support_FTE', 'student_service_FTE', 'research_FTE', \n",
    "             'SATtoACT_math_25', 'pell_grants', 'stem', 'female', 'white_percent', \n",
    "             'hispanic_percent',  'asian_percent', 'labor_market', 'R1']]\n",
    "\n",
    "models = [model1, model2, model3, model4, model5]\n",
    "\n",
    "models_name = ['model1', 'model2', 'model3', 'model4', 'model5']\n"
   ]
  },
  {
   "cell_type": "markdown",
   "metadata": {},
   "source": [
    "#Compute weight for the WLS"
   ]
  },
  {
   "cell_type": "code",
   "execution_count": 6,
   "metadata": {},
   "outputs": [],
   "source": [
    "# Models WLS\n",
    "y = df['early_careerlog']\n",
    "weight = df['students_FTE_total']\n",
    "\n",
    "# creating weights\n",
    "for i in range(len(models)):\n",
    "    # step 1\n",
    "    ols = sm.OLS(y, sm.add_constant(models[i])).fit()\n",
    "    reisdual = abs(ols.resid) \n",
    "\n",
    "    # step 2\n",
    "    ols2 = sm.OLS(reisdual, sm.add_constant(weight)).fit()\n",
    "    fitted = ols2.predict()\n",
    "\n",
    "    # weight\n",
    "    weights = (1/fitted)**2\n",
    "    df.loc[:, 'weight_4_'+str(models_name[i])] = weights"
   ]
  },
  {
   "cell_type": "markdown",
   "metadata": {},
   "source": [
    "#WLS Models"
   ]
  },
  {
   "cell_type": "code",
   "execution_count": 7,
   "metadata": {},
   "outputs": [],
   "source": [
    "# models \n",
    "y = df['early_careerlog']\n",
    "\n",
    "m1 = sm.WLS(y, sm.add_constant(model1), weights = df['weight_4_model1']).fit() \n",
    "df.loc[:, 'predict1'] = m1.predict()\n",
    "\n",
    "m2 = sm.WLS(y, sm.add_constant(model2), weights = df['weight_4_model2']).fit() \n",
    "df.loc[:,'predict2'] = m2.predict()\n",
    "\n",
    "m3 = sm.WLS(y, sm.add_constant(model3), weights = df['weight_4_model3']).fit() \n",
    "df.loc[:,'predict3'] = m3.predict()\n",
    "\n",
    "m4 = sm.WLS(y, sm.add_constant(model4), weights = df['weight_4_model4']).fit() \n",
    "df.loc[:,'predict4'] = m4.predict()\n",
    "\n",
    "m5 = sm.WLS(y, sm.add_constant(model5), weights = df['weight_4_model5']).fit() \n",
    "df.loc[:,'predict5'] = m5.predict()\n"
   ]
  },
  {
   "cell_type": "code",
   "execution_count": 8,
   "metadata": {},
   "outputs": [
    {
     "name": "stdout",
     "output_type": "stream",
     "text": [
      "Predicted UNM m1  48771.47\n",
      "Predicted UNM m2  45421.82\n",
      "Predicted UNM m3  45166.45\n",
      "Predicted UNM m4  44767.34\n",
      "Predicted UNM m5  44998.21\n"
     ]
    }
   ],
   "source": [
    "# predicted values \n",
    "import math\n",
    "columns = ['predict1', 'predict2', 'predict3', 'predict4', 'predict5']\n",
    "names = ['m1', 'm2', 'm3', 'm4', 'm5']\n",
    "\n",
    "table_unm = df.loc[df['name'] == 'University of New Mexico-Main Campus']\n",
    "\n",
    "for i in range(len(columns)): \n",
    "    x = table_unm[columns[i]]\n",
    "    p = math.exp(x)\n",
    "    print('Predicted UNM '+str(names[i]) + '  ' '%0.2f' % p)"
   ]
  },
  {
   "cell_type": "markdown",
   "metadata": {},
   "source": [
    "#OLS Models"
   ]
  },
  {
   "cell_type": "code",
   "execution_count": 9,
   "metadata": {},
   "outputs": [],
   "source": [
    "# models 4, 6, 8, 10 - VCE OLS model\n",
    "w = df['pwht']\n",
    "s = df['state']\n",
    "# regression results\n",
    "m6 = sm.WLS(y, sm.add_constant(model1), weights = w).fit(cov_type='cluster', cov_kwds = {'groups': s}) \n",
    "df.loc[:,'predict6'] = m6.predict()\n",
    "\n",
    "m7 = sm.WLS(y, sm.add_constant(model2), weights = w).fit(cov_type='cluster', cov_kwds = {'groups': s}) \n",
    "df.loc[:,'predict7'] = m7.predict()\n",
    "\n",
    "m8 = sm.WLS(y, sm.add_constant(model3), weights = w).fit(cov_type='cluster', cov_kwds = {'groups': s}) \n",
    "df.loc[:,'predict8'] = m8.predict()\n",
    "\n",
    "m9 = sm.WLS(y, sm.add_constant(model4), weights = w).fit(cov_type='cluster', cov_kwds = {'groups': s}) \n",
    "df.loc[:,'predict9'] = m9.predict()\n",
    "\n",
    "m10 = sm.WLS(y, sm.add_constant(model5), weights = w).fit(cov_type='cluster', cov_kwds = {'groups': s}) \n",
    "df.loc[:,'predict10'] = m10.predict()\n",
    "\n"
   ]
  },
  {
   "cell_type": "code",
   "execution_count": 10,
   "metadata": {},
   "outputs": [
    {
     "name": "stdout",
     "output_type": "stream",
     "text": [
      "Predicted UNM m6  49195.74\n",
      "Predicted UNM m7  45731.67\n",
      "Predicted UNM m8  45373.66\n",
      "Predicted UNM m9  45333.39\n",
      "Predicted UNM m10  45868.43\n"
     ]
    }
   ],
   "source": [
    "#predicted values - OLS\n",
    "columns = ['predict6', 'predict7', 'predict8', 'predict9', 'predict10']\n",
    "names = ['m6', 'm7', 'm8', 'm9', 'm10']\n",
    "\n",
    "table_unm = df.loc[df['name'] == 'University of New Mexico-Main Campus']\n",
    "\n",
    "for i in range(len(columns)): \n",
    "    x = table_unm[columns[i]]\n",
    "    p = math.exp(x)\n",
    "    print('Predicted UNM '+str(names[i]) + '  ' '%0.2f' % p)"
   ]
  },
  {
   "cell_type": "markdown",
   "metadata": {},
   "source": [
    "#export table"
   ]
  },
  {
   "cell_type": "code",
   "execution_count": 11,
   "metadata": {},
   "outputs": [],
   "source": [
    "# view table\n",
    "table = summary_col([m1, m6, m2, m7, m3, m8, m4, m9, m5, m10], stars=True, float_format='%0.3f',\n",
    "                      regressor_order = ['instruction_FTE', 'academic_support_FTE', 'student_service_FTE',\n",
    "                      'R1', 'research_FTE', 'SATtoACT_math_25', 'pell_grants', 'stem', 'labor_market', 'salary_instruction', \n",
    "                      'female', \n",
    "                      'white_percent', 'hispanic_percent', \n",
    "                      'asian_percent', 'const'],\n",
    "                      model_names = ['(1)\\n WLS', '(2)\\n OLS-VCE','(3)\\n WLS', '(4)\\n OLS-VCE', '(5) \\n WLS',\n",
    "                                    '(6)\\n OLS', '(7)\\n WLS', '(8)\\n OLS-VCE', '(9)\\n WLS', '(10) \\n OLS-VCE'],\n",
    "                      info_dict={'R2':lambda x: \"{:.2f}\".format(x.rsquared),\n",
    "                                'N':lambda x: \"{0:d}\".format(int(x.nobs))})"
   ]
  },
  {
   "cell_type": "code",
   "execution_count": 12,
   "metadata": {},
   "outputs": [
    {
     "name": "stdout",
     "output_type": "stream",
     "text": [
      "\n",
      "========================================================================================================================\n",
      "                        (1)       (2)       (3)       (4)       (5)       (6)       (7)       (8)       (9)      (10)   \n",
      "                         WLS     OLS-VCE     WLS     OLS-VCE     WLS       OLS       WLS     OLS-VCE     WLS     OLS-VCE\n",
      "------------------------------------------------------------------------------------------------------------------------\n",
      "instruction_FTE      0.003***  0.003***  0.000     -0.000                                            0.000     -0.000   \n",
      "                     (0.001)   (0.001)   (0.000)   (0.000)                                           (0.000)   (0.000)  \n",
      "academic_support_FTE 0.003**   0.000     0.001     0.000     0.000     0.000     0.000     -0.000    0.000     0.000    \n",
      "                     (0.001)   (0.001)   (0.001)   (0.001)   (0.001)   (0.001)   (0.001)   (0.001)   (0.001)   (0.001)  \n",
      "student_service_FTE  0.009**   0.011     0.006***  0.009***  0.004*    0.006***  0.003     0.005**   0.006**   0.009*** \n",
      "                     (0.005)   (0.007)   (0.002)   (0.002)   (0.002)   (0.002)   (0.002)   (0.002)   (0.002)   (0.002)  \n",
      "R1                   0.030**   -0.005    0.009     0.009     -0.004    -0.006    -0.007    -0.007    0.000     0.004    \n",
      "                     (0.015)   (0.020)   (0.010)   (0.011)   (0.010)   (0.011)   (0.010)   (0.011)   (0.010)   (0.011)  \n",
      "research_FTE                             0.000     0.000     0.000     0.000     0.000     0.000     0.001     0.001    \n",
      "                                         (0.001)   (0.000)   (0.000)   (0.000)   (0.000)   (0.000)   (0.001)   (0.000)  \n",
      "SATtoACT_math_25                         0.007***  0.005*    0.003     0.002     0.002     0.001     0.004**   0.003    \n",
      "                                         (0.002)   (0.003)   (0.002)   (0.003)   (0.002)   (0.003)   (0.002)   (0.003)  \n",
      "pell_grants                              -0.002*** -0.002*** -0.002*** -0.002*** -0.002*** -0.002*** -0.003*** -0.003***\n",
      "                                         (0.000)   (0.001)   (0.000)   (0.001)   (0.001)   (0.001)   (0.001)   (0.001)  \n",
      "stem                                     0.004***  0.004***  0.004***  0.004***  0.003***  0.003***  0.003***  0.003*** \n",
      "                                         (0.000)   (0.000)   (0.000)   (0.000)   (0.001)   (0.001)   (0.001)   (0.001)  \n",
      "labor_market                             -0.001*** -0.001    -0.001*** -0.000    -0.001**  -0.000    -0.001*** -0.000   \n",
      "                                         (0.000)   (0.000)   (0.000)   (0.000)   (0.000)   (0.000)   (0.000)   (0.001)  \n",
      "salary_instruction                                           0.014***  0.015***  0.013***  0.014***                     \n",
      "                                                             (0.003)   (0.005)   (0.004)   (0.005)                      \n",
      "female                                                                           -0.002**  -0.002**  -0.002**  -0.003** \n",
      "                                                                                 (0.001)   (0.001)   (0.001)   (0.001)  \n",
      "white_percent                                                                    -0.001**  -0.001    -0.001**  -0.001*  \n",
      "                                                                                 (0.000)   (0.001)   (0.000)   (0.001)  \n",
      "hispanic_percent                                                                 -0.001    -0.001    -0.001    -0.000   \n",
      "                                                                                 (0.000)   (0.001)   (0.000)   (0.001)  \n",
      "asian_percent                                                                    -0.000    -0.001    0.001     0.000    \n",
      "                                                                                 (0.001)   (0.001)   (0.001)   (0.001)  \n",
      "const                10.711*** 10.753*** 10.600*** 10.619*** 10.560*** 10.577*** 10.813*** 10.832*** 10.902*** 10.931***\n",
      "                     (0.014)   (0.023)   (0.051)   (0.074)   (0.049)   (0.071)   (0.103)   (0.106)   (0.102)   (0.107)  \n",
      "R-squared            0.384     0.454     0.797     0.871     0.815     0.882     0.819     0.885     0.804     0.876    \n",
      "                     0.397     0.465     0.806     0.877     0.824     0.888     0.831     0.893     0.817     0.884    \n",
      "R2                   0.40      0.47      0.81      0.88      0.82      0.89      0.83      0.89      0.82      0.88     \n",
      "N                    197       197       197       197       197       197       197       197       197       197      \n",
      "========================================================================================================================\n",
      "Standard errors in parentheses.\n",
      "* p<.1, ** p<.05, ***p<.01\n"
     ]
    }
   ],
   "source": [
    "print(table)"
   ]
  },
  {
   "cell_type": "code",
   "execution_count": 13,
   "metadata": {},
   "outputs": [],
   "source": [
    "# directory to save tables\n",
    "import os\n",
    "os.chdir('C:\\\\Users\\\\rbishwakarma\\\\Desktop\\\\value_proposition_in_python\\\\value_proposition\\\\tables')\n",
    "\n",
    "results_text = table.as_text()\n",
    "\n",
    "text_file = open(\"table12.txt\", \"w\")\n",
    "text_file.write(results_text)\n",
    "text_file.close()"
   ]
  },
  {
   "cell_type": "markdown",
   "metadata": {},
   "source": [
    "# Table 11"
   ]
  },
  {
   "cell_type": "code",
   "execution_count": 14,
   "metadata": {},
   "outputs": [],
   "source": [
    "# main data\n",
    "os.chdir('C:\\\\Users\\\\rbishwakarma\\\\Desktop\\\\value_proposition_in_python\\\\value_proposition')\n",
    "df = pd.read_stata('final.dta')\n",
    "\n",
    "# removing missing universities for the analysis\n",
    "df = df.dropna(axis = 0, how = 'any', subset = ['early_careerlog'])\n",
    "\n",
    "# dropping values from the missing\n",
    "df = df.dropna(axis = 0, how='any', subset=['stem'])\n",
    "df.reset_index(drop=True, inplace=True)"
   ]
  },
  {
   "cell_type": "code",
   "execution_count": 15,
   "metadata": {},
   "outputs": [],
   "source": [
    "# Models\n",
    "model1 = df[['instruction_FTE', 'academic_support_FTE', 'student_service_FTE', 'R1']]\n",
    "\n",
    "model2 = df[['instruction_FTE', 'academic_support_FTE', 'student_service_FTE', \n",
    "              'research_FTE', 'SATtoACT_math_25', 'pell_grants', 'stem', 'R1']]\n",
    "\n",
    "model3 = df[['academic_support_FTE', 'student_service_FTE', 'research_FTE', 'SATtoACT_math_25',\n",
    "              'pell_grants', 'stem', 'salary_instruction', 'R1']]\n",
    "\n",
    "model4 = df[['academic_support_FTE', 'student_service_FTE', 'research_FTE', 'SATtoACT_math_25', \n",
    "             'pell_grants', 'stem', 'salary_instruction', 'female', 'white_percent', \n",
    "             'hispanic_percent', 'asian_percent', 'R1']]\n",
    "\n",
    "model5 = df[['instruction_FTE', 'academic_support_FTE', 'student_service_FTE', 'research_FTE', \n",
    "             'SATtoACT_math_25', 'pell_grants', 'stem', 'female', 'white_percent', \n",
    "             'hispanic_percent',  'asian_percent', 'R1']]\n",
    "\n",
    "models = [model1, model2, model3, model4, model5]\n",
    "\n",
    "models_name = ['model1', 'model2', 'model3', 'model4', 'model5']"
   ]
  },
  {
   "cell_type": "code",
   "execution_count": 16,
   "metadata": {},
   "outputs": [],
   "source": [
    "# Models WLS\n",
    "y = df['early_careerlog']\n",
    "weight = df['students_FTE_total']\n",
    "\n",
    "# creating weights\n",
    "for i in range(len(models)):\n",
    "    # step 1\n",
    "    ols = sm.OLS(y, sm.add_constant(models[i])).fit()\n",
    "    reisdual = abs(ols.resid) \n",
    "\n",
    "    # step 2\n",
    "    ols2 = sm.OLS(reisdual, sm.add_constant(weight)).fit()\n",
    "    fitted = ols2.predict()\n",
    "\n",
    "    # weight\n",
    "    weights = (1/fitted)**2\n",
    "    df.loc[:, 'weight_4_'+str(models_name[i])] = weights"
   ]
  },
  {
   "cell_type": "code",
   "execution_count": 17,
   "metadata": {},
   "outputs": [
    {
     "name": "stdout",
     "output_type": "stream",
     "text": [
      "Predicted UNM m1  48771.47\n",
      "Predicted UNM m2  46021.25\n",
      "Predicted UNM m3  45541.41\n",
      "Predicted UNM m4  45198.96\n",
      "Predicted UNM m5  45509.45\n"
     ]
    }
   ],
   "source": [
    "# models WLS\n",
    "y = df['early_careerlog']\n",
    "\n",
    "m1 = sm.WLS(y, sm.add_constant(model1), weights = df['weight_4_model1']).fit() \n",
    "df.loc[:, 'predict1'] = m1.predict()\n",
    "\n",
    "m2 = sm.WLS(y, sm.add_constant(model2), weights = df['weight_4_model2']).fit() \n",
    "df.loc[:,'predict2'] = m2.predict()\n",
    "\n",
    "m3 = sm.WLS(y, sm.add_constant(model3), weights = df['weight_4_model3']).fit() \n",
    "df.loc[:,'predict3'] = m3.predict()\n",
    "\n",
    "m4 = sm.WLS(y, sm.add_constant(model4), weights = df['weight_4_model4']).fit() \n",
    "df.loc[:,'predict4'] = m4.predict()\n",
    "\n",
    "m5 = sm.WLS(y, sm.add_constant(model5), weights = df['weight_4_model5']).fit() \n",
    "df.loc[:,'predict5'] = m5.predict()\n",
    "\n",
    "# predicted values \n",
    "import math\n",
    "columns = ['predict1', 'predict2', 'predict3', 'predict4', 'predict5']\n",
    "names = ['m1', 'm2', 'm3', 'm4', 'm5']\n",
    "\n",
    "table_unm = df.loc[df['name'] == 'University of New Mexico-Main Campus']\n",
    "\n",
    "for i in range(len(columns)): \n",
    "    x = table_unm[columns[i]]\n",
    "    p = math.exp(x)\n",
    "    print('Predicted UNM '+str(names[i]) + '  ' '%0.2f' % p)\n"
   ]
  },
  {
   "cell_type": "code",
   "execution_count": 18,
   "metadata": {},
   "outputs": [
    {
     "name": "stdout",
     "output_type": "stream",
     "text": [
      "Predicted UNM m6  49195.74\n",
      "Predicted UNM m7  46084.15\n",
      "Predicted UNM m8  45564.13\n",
      "Predicted UNM m9  45610.93\n",
      "Predicted UNM m10  46257.79\n"
     ]
    }
   ],
   "source": [
    "# models VCE OLS model\n",
    "w = df['pwht']\n",
    "s = df['state']\n",
    "# regression results\n",
    "m6 = sm.WLS(y, sm.add_constant(model1), weights = w).fit(cov_type='cluster', cov_kwds = {'groups': s}) \n",
    "df.loc[:,'predict6'] = m6.predict()\n",
    "\n",
    "m7 = sm.WLS(y, sm.add_constant(model2), weights = w).fit(cov_type='cluster', cov_kwds = {'groups': s}) \n",
    "df.loc[:,'predict7'] = m7.predict()\n",
    "\n",
    "m8 = sm.WLS(y, sm.add_constant(model3), weights = w).fit(cov_type='cluster', cov_kwds = {'groups': s}) \n",
    "df.loc[:,'predict8'] = m8.predict()\n",
    "\n",
    "m9 = sm.WLS(y, sm.add_constant(model4), weights = w).fit(cov_type='cluster', cov_kwds = {'groups': s}) \n",
    "df.loc[:,'predict9'] = m9.predict()\n",
    "\n",
    "m10 = sm.WLS(y, sm.add_constant(model5), weights = w).fit(cov_type='cluster', cov_kwds = {'groups': s}) \n",
    "df.loc[:,'predict10'] = m10.predict()\n",
    "\n",
    "#predicted values - OLS\n",
    "columns = ['predict6', 'predict7', 'predict8', 'predict9', 'predict10']\n",
    "names = ['m6', 'm7', 'm8', 'm9', 'm10']\n",
    "\n",
    "table_unm = df.loc[df['name'] == 'University of New Mexico-Main Campus']\n",
    "\n",
    "for i in range(len(columns)): \n",
    "    x = table_unm[columns[i]]\n",
    "    p = math.exp(x)\n",
    "    print('Predicted UNM '+str(names[i]) + '  ' '%0.2f' % p)\n"
   ]
  },
  {
   "cell_type": "code",
   "execution_count": 19,
   "metadata": {},
   "outputs": [
    {
     "name": "stdout",
     "output_type": "stream",
     "text": [
      "\n",
      "==================================================================================================================================\n",
      "                        (1)        (2)        (3)        (4)        (5)        (6)        (7)        (8)        (9)       (10)    \n",
      "                         WLS      OLS-VCE      WLS      OLS-VCE      WLS        OLS        WLS      OLS-VCE      WLS      OLS-VCE \n",
      "----------------------------------------------------------------------------------------------------------------------------------\n",
      "instruction_FTE      0.0029***  0.0033***  0.0002     -0.0001                                                0.0000     -0.0002   \n",
      "                     (0.0006)   (0.0009)   (0.0005)   (0.0004)                                               (0.0005)   (0.0004)  \n",
      "academic_support_FTE 0.0029**   0.0004     0.0007     0.0002     0.0002     0.0001     0.0001     -0.0000    0.0005     0.0000    \n",
      "                     (0.0013)   (0.0014)   (0.0007)   (0.0006)   (0.0007)   (0.0006)   (0.0007)   (0.0006)   (0.0007)   (0.0006)  \n",
      "student_service_FTE  0.0091**   0.0110     0.0075***  0.0093***  0.0039*    0.0055***  0.0033     0.0049**   0.0064**   0.0087*** \n",
      "                     (0.0045)   (0.0072)   (0.0025)   (0.0021)   (0.0023)   (0.0021)   (0.0023)   (0.0023)   (0.0025)   (0.0021)  \n",
      "R1                   0.0298**   -0.0047    0.0102     0.0094     -0.0051    -0.0066    -0.0088    -0.0072    -0.0006    0.0040    \n",
      "                     (0.0150)   (0.0200)   (0.0102)   (0.0107)   (0.0102)   (0.0108)   (0.0102)   (0.0108)   (0.0103)   (0.0110)  \n",
      "research_FTE                               0.0002     0.0005     0.0001     0.0001     0.0004     0.0004     0.0005     0.0007    \n",
      "                                           (0.0005)   (0.0004)   (0.0004)   (0.0003)   (0.0004)   (0.0004)   (0.0005)   (0.0005)  \n",
      "SATtoACT_math_25                           0.0074***  0.0057**   0.0032     0.0015     0.0020     0.0005     0.0041*    0.0030    \n",
      "                                           (0.0022)   (0.0027)   (0.0022)   (0.0026)   (0.0023)   (0.0029)   (0.0023)   (0.0031)  \n",
      "pell_grants                                -0.0014*** -0.0016**  -0.0018*** -0.0018*** -0.0026*** -0.0026*** -0.0031*** -0.0030***\n",
      "                                           (0.0005)   (0.0006)   (0.0005)   (0.0005)   (0.0007)   (0.0009)   (0.0007)   (0.0009)  \n",
      "stem                                       0.0043***  0.0040***  0.0042***  0.0040***  0.0032***  0.0031***  0.0031***  0.0030*** \n",
      "                                           (0.0004)   (0.0004)   (0.0004)   (0.0003)   (0.0005)   (0.0006)   (0.0006)   (0.0006)  \n",
      "salary_instruction                                               0.0159***  0.0158***  0.0136***  0.0149***                       \n",
      "                                                                 (0.0034)   (0.0044)   (0.0036)   (0.0049)                        \n",
      "female                                                                                 -0.0024**  -0.0025**  -0.0026*** -0.0028** \n",
      "                                                                                       (0.0009)   (0.0010)   (0.0010)   (0.0011)  \n",
      "white_percent                                                                          -0.0011**  -0.0010    -0.0013*** -0.0011*  \n",
      "                                                                                       (0.0005)   (0.0007)   (0.0005)   (0.0007)  \n",
      "hispanic_percent                                                                       -0.0007    -0.0005    -0.0006    -0.0002   \n",
      "                                                                                       (0.0005)   (0.0006)   (0.0005)   (0.0007)  \n",
      "asian_percent                                                                          0.0000     -0.0007    0.0010     0.0002    \n",
      "                                                                                       (0.0008)   (0.0012)   (0.0008)   (0.0011)  \n",
      "const                10.7115*** 10.7527*** 10.5478*** 10.5955*** 10.5202*** 10.5605*** 10.8129*** 10.8317*** 10.9139*** 10.9356***\n",
      "                     (0.0141)   (0.0229)   (0.0505)   (0.0630)   (0.0474)   (0.0584)   (0.1041)   (0.1116)   (0.1041)   (0.1140)  \n",
      "R-squared            0.3844     0.4539     0.7900     0.8686     0.8129     0.8816     0.8153     0.8848     0.7977     0.8751    \n",
      "                     0.3970     0.4651     0.7986     0.8740     0.8206     0.8864     0.8266     0.8919     0.8101     0.8827    \n",
      "R2                   0.40       0.47       0.80       0.87       0.82       0.89       0.83       0.89       0.81       0.88      \n",
      "N                    197        197        197        197        197        197        197        197        197        197       \n",
      "==================================================================================================================================\n",
      "Standard errors in parentheses.\n",
      "* p<.1, ** p<.05, ***p<.01\n"
     ]
    }
   ],
   "source": [
    "# view and export table\n",
    "table = summary_col([m1, m6, m2, m7, m3, m8, m4, m9, m5, m10], stars=True, float_format='%0.4f',\n",
    "                      regressor_order = ['instruction_FTE', 'academic_support_FTE', 'student_service_FTE',\n",
    "                      'R1', 'research_FTE', 'SATtoACT_math_25', 'pell_grants', 'stem', 'salary_instruction', \n",
    "                      'female', \n",
    "                      'white_percent', 'hispanic_percent', \n",
    "                      'asian_percent', 'const'],\n",
    "                      model_names = ['(1)\\n WLS', '(2)\\n OLS-VCE','(3)\\n WLS', '(4)\\n OLS-VCE', '(5) \\n WLS',\n",
    "                                    '(6)\\n OLS', '(7)\\n WLS', '(8)\\n OLS-VCE', '(9)\\n WLS', '(10) \\n OLS-VCE'],\n",
    "                      info_dict={'R2':lambda x: \"{:.2f}\".format(x.rsquared),\n",
    "                                'N':lambda x: \"{0:d}\".format(int(x.nobs))})\n",
    "\n",
    "print(table)\n",
    "\n",
    "# save table\n",
    "os.chdir('C:\\\\Users\\\\rbishwakarma\\\\Desktop\\\\value_proposition_in_python\\\\value_proposition\\\\tables')\n",
    "\n",
    "results_text = table.as_text()\n",
    "\n",
    "text_file = open(\"table11.txt\", \"w\")\n",
    "text_file.write(results_text)\n",
    "text_file.close()"
   ]
  },
  {
   "cell_type": "markdown",
   "metadata": {},
   "source": [
    "# Table 13"
   ]
  },
  {
   "cell_type": "code",
   "execution_count": 20,
   "metadata": {},
   "outputs": [],
   "source": [
    "# main data\n",
    "os.chdir('C:\\\\Users\\\\rbishwakarma\\\\Desktop\\\\value_proposition_in_python\\\\value_proposition')\n",
    "df = pd.read_stata('final.dta')\n",
    "\n",
    "# removing missing universities for the analysis\n",
    "df = df.dropna(axis = 0, how = 'any', subset = ['early_careerlog'])\n",
    "\n",
    "# dropping values from the missing\n",
    "df = df.dropna(axis = 0, how='any', subset=['stem'])\n",
    "df.reset_index(drop=True, inplace=True)"
   ]
  },
  {
   "cell_type": "code",
   "execution_count": 21,
   "metadata": {},
   "outputs": [],
   "source": [
    "# Models\n",
    "model1 = df[['instruction_FTE', 'academic_support_FTE', 'student_service_FTE', 'R1']]\n",
    "\n",
    "model2 = df[['instruction_FTE', 'academic_support_FTE', 'student_service_FTE', \n",
    "              'research_FTE', 'SATtoACT_math_25', 'pell_grants', 'stem', 'R1', 'labor_market_STEM']]\n",
    "\n",
    "model3 = df[['academic_support_FTE', 'student_service_FTE', 'research_FTE', 'SATtoACT_math_25',\n",
    "              'pell_grants', 'stem', 'salary_instruction', 'R1', 'labor_market_STEM']]\n",
    "\n",
    "model4 = df[['academic_support_FTE', 'student_service_FTE', 'research_FTE', 'SATtoACT_math_25', \n",
    "             'pell_grants', 'stem', 'salary_instruction', 'female', 'white_percent', \n",
    "             'hispanic_percent', 'asian_percent', 'R1', 'labor_market_STEM']]\n",
    "\n",
    "model5 = df[['instruction_FTE', 'academic_support_FTE', 'student_service_FTE', 'research_FTE', \n",
    "             'SATtoACT_math_25', 'pell_grants', 'stem', 'female', 'white_percent', \n",
    "             'hispanic_percent',  'asian_percent', 'R1', 'labor_market_STEM']]\n",
    "\n",
    "models = [model1, model2, model3, model4, model5]\n",
    "\n",
    "models_name = ['model1', 'model2', 'model3', 'model4', 'model5']\n",
    "\n",
    "# Models weight\n",
    "y = df['early_careerlog']\n",
    "weight = df['students_FTE_total']\n",
    "\n",
    "# creating weights\n",
    "for i in range(len(models)):\n",
    "    # step 1\n",
    "    ols = sm.OLS(y, sm.add_constant(models[i])).fit()\n",
    "    reisdual = abs(ols.resid) \n",
    "\n",
    "    # step 2\n",
    "    ols2 = sm.OLS(reisdual, sm.add_constant(weight)).fit()\n",
    "    fitted = ols2.predict()\n",
    "\n",
    "    # weight\n",
    "    weights = (1/fitted)**2\n",
    "    df.loc[:, 'weight_4_'+str(models_name[i])] = weights"
   ]
  },
  {
   "cell_type": "code",
   "execution_count": 22,
   "metadata": {},
   "outputs": [
    {
     "name": "stdout",
     "output_type": "stream",
     "text": [
      "Predicted UNM m1  48771.47\n",
      "Predicted UNM m2  44618.50\n",
      "Predicted UNM m3  44643.95\n",
      "Predicted UNM m4  44562.49\n",
      "Predicted UNM m5  44586.88\n"
     ]
    }
   ],
   "source": [
    "# models WLS\n",
    "y = df['early_careerlog']\n",
    "\n",
    "m1 = sm.WLS(y, sm.add_constant(model1), weights = df['weight_4_model1']).fit() \n",
    "df.loc[:, 'predict1'] = m1.predict()\n",
    "\n",
    "m2 = sm.WLS(y, sm.add_constant(model2), weights = df['weight_4_model2']).fit() \n",
    "df.loc[:,'predict2'] = m2.predict()\n",
    "\n",
    "m3 = sm.WLS(y, sm.add_constant(model3), weights = df['weight_4_model3']).fit() \n",
    "df.loc[:,'predict3'] = m3.predict()\n",
    "\n",
    "m4 = sm.WLS(y, sm.add_constant(model4), weights = df['weight_4_model4']).fit() \n",
    "df.loc[:,'predict4'] = m4.predict()\n",
    "\n",
    "m5 = sm.WLS(y, sm.add_constant(model5), weights = df['weight_4_model5']).fit() \n",
    "df.loc[:,'predict5'] = m5.predict()\n",
    "\n",
    "# predicted values \n",
    "import math\n",
    "columns = ['predict1', 'predict2', 'predict3', 'predict4', 'predict5']\n",
    "names = ['m1', 'm2', 'm3', 'm4', 'm5']\n",
    "\n",
    "table_unm = df.loc[df['name'] == 'University of New Mexico-Main Campus']\n",
    "\n",
    "for i in range(len(columns)): \n",
    "    x = table_unm[columns[i]]\n",
    "    p = math.exp(x)\n",
    "    print('Predicted UNM '+str(names[i]) + '  ' '%0.2f' % p)\n"
   ]
  },
  {
   "cell_type": "code",
   "execution_count": 23,
   "metadata": {},
   "outputs": [
    {
     "name": "stdout",
     "output_type": "stream",
     "text": [
      "Predicted UNM m6  49195.74\n",
      "Predicted UNM m7  45302.43\n",
      "Predicted UNM m8  45150.95\n",
      "Predicted UNM m9  45379.88\n",
      "Predicted UNM m10  45796.47\n"
     ]
    }
   ],
   "source": [
    "# models VCE OLS model\n",
    "w = df['pwht']\n",
    "s = df['state']\n",
    "# regression results\n",
    "m6 = sm.WLS(y, sm.add_constant(model1), weights = w).fit(cov_type='cluster', cov_kwds = {'groups': s}) \n",
    "df.loc[:,'predict6'] = m6.predict()\n",
    "\n",
    "m7 = sm.WLS(y, sm.add_constant(model2), weights = w).fit(cov_type='cluster', cov_kwds = {'groups': s}) \n",
    "df.loc[:,'predict7'] = m7.predict()\n",
    "\n",
    "m8 = sm.WLS(y, sm.add_constant(model3), weights = w).fit(cov_type='cluster', cov_kwds = {'groups': s}) \n",
    "df.loc[:,'predict8'] = m8.predict()\n",
    "\n",
    "m9 = sm.WLS(y, sm.add_constant(model4), weights = w).fit(cov_type='cluster', cov_kwds = {'groups': s}) \n",
    "df.loc[:,'predict9'] = m9.predict()\n",
    "\n",
    "m10 = sm.WLS(y, sm.add_constant(model5), weights = w).fit(cov_type='cluster', cov_kwds = {'groups': s}) \n",
    "df.loc[:,'predict10'] = m10.predict()\n",
    "\n",
    "#predicted values - OLS\n",
    "columns = ['predict6', 'predict7', 'predict8', 'predict9', 'predict10']\n",
    "names = ['m6', 'm7', 'm8', 'm9', 'm10']\n",
    "\n",
    "table_unm = df.loc[df['name'] == 'University of New Mexico-Main Campus']\n",
    "\n",
    "for i in range(len(columns)): \n",
    "    x = table_unm[columns[i]]\n",
    "    p = math.exp(x)\n",
    "    print('Predicted UNM '+str(names[i]) + '  ' '%0.2f' % p)"
   ]
  },
  {
   "cell_type": "code",
   "execution_count": 24,
   "metadata": {},
   "outputs": [
    {
     "name": "stdout",
     "output_type": "stream",
     "text": [
      "\n",
      "==================================================================================================================================\n",
      "                        (1)        (2)        (3)        (4)        (5)        (6)        (7)        (8)        (9)       (10)    \n",
      "                         WLS      OLS-VCE      WLS      OLS-VCE      WLS        OLS        WLS      OLS-VCE      WLS      OLS-VCE \n",
      "----------------------------------------------------------------------------------------------------------------------------------\n",
      "instruction_FTE      0.0029***  0.0033***  0.0003     -0.0000                                                0.0001     -0.0001   \n",
      "                     (0.0006)   (0.0009)   (0.0005)   (0.0004)                                               (0.0005)   (0.0003)  \n",
      "academic_support_FTE 0.0029**   0.0004     0.0008     0.0003     0.0003     0.0001     0.0002     -0.0000    0.0005     0.0001    \n",
      "                     (0.0013)   (0.0014)   (0.0007)   (0.0006)   (0.0007)   (0.0006)   (0.0007)   (0.0007)   (0.0007)   (0.0006)  \n",
      "student_service_FTE  0.0091**   0.0110     0.0073***  0.0095***  0.0043*    0.0057***  0.0038     0.0051**   0.0065**   0.0088*** \n",
      "                     (0.0045)   (0.0072)   (0.0025)   (0.0022)   (0.0023)   (0.0022)   (0.0023)   (0.0025)   (0.0025)   (0.0021)  \n",
      "R1                   0.0298**   -0.0047    0.0101     0.0089     -0.0036    -0.0063    -0.0075    -0.0070    0.0002     0.0039    \n",
      "                     (0.0150)   (0.0200)   (0.0100)   (0.0105)   (0.0101)   (0.0106)   (0.0101)   (0.0109)   (0.0102)   (0.0109)  \n",
      "research_FTE                               0.0002     0.0005     0.0001     0.0001     0.0004     0.0004     0.0005     0.0007    \n",
      "                                           (0.0005)   (0.0004)   (0.0004)   (0.0003)   (0.0004)   (0.0004)   (0.0005)   (0.0005)  \n",
      "SATtoACT_math_25                           0.0062***  0.0050*    0.0028     0.0013     0.0019     0.0006     0.0038*    0.0029    \n",
      "                                           (0.0021)   (0.0029)   (0.0022)   (0.0027)   (0.0023)   (0.0029)   (0.0023)   (0.0031)  \n",
      "pell_grants                                -0.0018*** -0.0018*** -0.0019*** -0.0019*** -0.0027*** -0.0026*** -0.0031*** -0.0030***\n",
      "                                           (0.0005)   (0.0006)   (0.0005)   (0.0005)   (0.0007)   (0.0009)   (0.0007)   (0.0009)  \n",
      "stem                                       0.0043***  0.0040***  0.0042***  0.0040***  0.0033***  0.0031***  0.0032***  0.0030*** \n",
      "                                           (0.0004)   (0.0004)   (0.0004)   (0.0003)   (0.0005)   (0.0006)   (0.0006)   (0.0006)  \n",
      "labor_market_STEM                          -0.0010*** -0.0005    -0.0007**  -0.0003    -0.0005*   -0.0002    -0.0008**  -0.0004   \n",
      "                                           (0.0003)   (0.0004)   (0.0003)   (0.0004)   (0.0003)   (0.0004)   (0.0003)   (0.0004)  \n",
      "salary_instruction                                               0.0144***  0.0152***  0.0125***  0.0146***                       \n",
      "                                                                 (0.0034)   (0.0046)   (0.0037)   (0.0050)                        \n",
      "female                                                                                 -0.0023**  -0.0025**  -0.0025*** -0.0027** \n",
      "                                                                                       (0.0009)   (0.0010)   (0.0010)   (0.0011)  \n",
      "white_percent                                                                          -0.0009**  -0.0009    -0.0010**  -0.0010   \n",
      "                                                                                       (0.0005)   (0.0007)   (0.0005)   (0.0006)  \n",
      "hispanic_percent                                                                       -0.0006    -0.0004    -0.0004    -0.0001   \n",
      "                                                                                       (0.0005)   (0.0006)   (0.0005)   (0.0007)  \n",
      "asian_percent                                                                          0.0001     -0.0007    0.0009     0.0002    \n",
      "                                                                                       (0.0008)   (0.0012)   (0.0008)   (0.0011)  \n",
      "const                10.7115*** 10.7527*** 10.6013*** 10.6226*** 10.5581*** 10.5767*** 10.8194*** 10.8328*** 10.9113*** 10.9334***\n",
      "                     (0.0141)   (0.0229)   (0.0522)   (0.0715)   (0.0502)   (0.0704)   (0.1035)   (0.1083)   (0.1026)   (0.1078)  \n",
      "R-squared            0.3844     0.4539     0.7937     0.8698     0.8132     0.8815     0.8155     0.8844     0.8009     0.8752    \n",
      "                     0.3970     0.4651     0.8031     0.8758     0.8218     0.8870     0.8278     0.8921     0.8141     0.8835    \n",
      "R2                   0.40       0.47       0.80       0.88       0.82       0.89       0.83       0.89       0.81       0.88      \n",
      "N                    197        197        197        197        197        197        197        197        197        197       \n",
      "==================================================================================================================================\n",
      "Standard errors in parentheses.\n",
      "* p<.1, ** p<.05, ***p<.01\n"
     ]
    }
   ],
   "source": [
    "# view and export table\n",
    "table = summary_col([m1, m6, m2, m7, m3, m8, m4, m9, m5, m10], stars=True, float_format='%0.4f',\n",
    "                      regressor_order = ['instruction_FTE', 'academic_support_FTE', 'student_service_FTE',\n",
    "                      'R1', 'research_FTE', 'SATtoACT_math_25', 'pell_grants', 'stem', 'labor_market_STEM', 'salary_instruction', \n",
    "                      'female', \n",
    "                      'white_percent', 'hispanic_percent', \n",
    "                      'asian_percent', 'const'],\n",
    "                      model_names = ['(1)\\n WLS', '(2)\\n OLS-VCE','(3)\\n WLS', '(4)\\n OLS-VCE', '(5) \\n WLS',\n",
    "                                    '(6)\\n OLS', '(7)\\n WLS', '(8)\\n OLS-VCE', '(9)\\n WLS', '(10) \\n OLS-VCE'],\n",
    "                      info_dict={'R2':lambda x: \"{:.2f}\".format(x.rsquared),\n",
    "                                'N':lambda x: \"{0:d}\".format(int(x.nobs))})\n",
    "\n",
    "print(table)\n",
    "\n",
    "# save table\n",
    "os.chdir('C:\\\\Users\\\\rbishwakarma\\\\Desktop\\\\value_proposition_in_python\\\\value_proposition\\\\tables')\n",
    "\n",
    "results_text = table.as_text()\n",
    "\n",
    "text_file = open(\"table13.txt\", \"w\")\n",
    "text_file.write(results_text)\n",
    "text_file.close()"
   ]
  },
  {
   "cell_type": "code",
   "execution_count": null,
   "metadata": {},
   "outputs": [],
   "source": []
  }
 ],
 "metadata": {
  "kernelspec": {
   "display_name": "Python 3",
   "language": "python",
   "name": "python3"
  },
  "language_info": {
   "codemirror_mode": {
    "name": "ipython",
    "version": 3
   },
   "file_extension": ".py",
   "mimetype": "text/x-python",
   "name": "python",
   "nbconvert_exporter": "python",
   "pygments_lexer": "ipython3",
   "version": "3.7.6"
  }
 },
 "nbformat": 4,
 "nbformat_minor": 4
}
